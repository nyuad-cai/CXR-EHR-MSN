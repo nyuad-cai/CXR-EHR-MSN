{
 "cells": [
  {
   "cell_type": "markdown",
   "id": "97ab95ac",
   "metadata": {},
   "source": [
    "# Related imports"
   ]
  },
  {
   "cell_type": "code",
   "execution_count": 1,
   "id": "13775523",
   "metadata": {},
   "outputs": [],
   "source": [
    "import os\n",
    "import numpy as np\n",
    "import pandas as pd \n",
    "from sklearn.experimental import enable_iterative_imputer\n",
    "from sklearn.impute import IterativeImputer\n",
    "from collections import Counter\n",
    "from sklearn.preprocessing import LabelEncoder\n",
    "from sklearn.ensemble import RandomForestRegressor"
   ]
  },
  {
   "cell_type": "code",
   "execution_count": 2,
   "id": "3846e0dc",
   "metadata": {},
   "outputs": [],
   "source": [
    "meta = pd.read_csv('./ehr_dataset_last.csv')"
   ]
  },
  {
   "cell_type": "markdown",
   "id": "a1f4f8f3",
   "metadata": {},
   "source": [
    "# Missing data handling"
   ]
  },
  {
   "cell_type": "code",
   "execution_count": 3,
   "id": "0b57b7e2",
   "metadata": {},
   "outputs": [],
   "source": [
    "#remove patients with misisng gender \n",
    "meta = meta[meta.gender.isna() == False]"
   ]
  },
  {
   "cell_type": "code",
   "execution_count": 4,
   "id": "46e3e2ff",
   "metadata": {},
   "outputs": [
    {
     "data": {
      "text/html": [
       "<div>\n",
       "<style scoped>\n",
       "    .dataframe tbody tr th:only-of-type {\n",
       "        vertical-align: middle;\n",
       "    }\n",
       "\n",
       "    .dataframe tbody tr th {\n",
       "        vertical-align: top;\n",
       "    }\n",
       "\n",
       "    .dataframe thead th {\n",
       "        text-align: right;\n",
       "    }\n",
       "</style>\n",
       "<table border=\"1\" class=\"dataframe\">\n",
       "  <thead>\n",
       "    <tr style=\"text-align: right;\">\n",
       "      <th></th>\n",
       "      <th>dicom_id</th>\n",
       "      <th>cxr_view</th>\n",
       "      <th>cxr_orientation</th>\n",
       "      <th>subject_id</th>\n",
       "      <th>gender</th>\n",
       "      <th>age</th>\n",
       "      <th>stay_expire</th>\n",
       "      <th>icu_stay</th>\n",
       "      <th>ageR5</th>\n",
       "      <th>ageR10</th>\n",
       "      <th>path</th>\n",
       "    </tr>\n",
       "  </thead>\n",
       "  <tbody>\n",
       "    <tr>\n",
       "      <th>0</th>\n",
       "      <td>02aa804e-bde0afdd-112c0b34-7bc16630-4e384014</td>\n",
       "      <td>PA</td>\n",
       "      <td>Erect</td>\n",
       "      <td>10000032</td>\n",
       "      <td>F</td>\n",
       "      <td>52.0</td>\n",
       "      <td>0</td>\n",
       "      <td>0</td>\n",
       "      <td>50-55</td>\n",
       "      <td>50-60</td>\n",
       "      <td>/scratch/fs999/shamoutlab/data/physionet.org/f...</td>\n",
       "    </tr>\n",
       "    <tr>\n",
       "      <th>1</th>\n",
       "      <td>174413ec-4ec4c1f7-34ea26b7-c5f994f8-79ef1962</td>\n",
       "      <td>LATERAL</td>\n",
       "      <td>Erect</td>\n",
       "      <td>10000032</td>\n",
       "      <td>F</td>\n",
       "      <td>52.0</td>\n",
       "      <td>0</td>\n",
       "      <td>0</td>\n",
       "      <td>50-55</td>\n",
       "      <td>50-60</td>\n",
       "      <td>/scratch/fs999/shamoutlab/data/physionet.org/f...</td>\n",
       "    </tr>\n",
       "    <tr>\n",
       "      <th>2</th>\n",
       "      <td>2a2277a9-b0ded155-c0de8eb9-c124d10e-82c5caab</td>\n",
       "      <td>PA</td>\n",
       "      <td>Erect</td>\n",
       "      <td>10000032</td>\n",
       "      <td>F</td>\n",
       "      <td>52.0</td>\n",
       "      <td>0</td>\n",
       "      <td>0</td>\n",
       "      <td>50-55</td>\n",
       "      <td>50-60</td>\n",
       "      <td>/scratch/fs999/shamoutlab/data/physionet.org/f...</td>\n",
       "    </tr>\n",
       "    <tr>\n",
       "      <th>3</th>\n",
       "      <td>e084de3b-be89b11e-20fe3f9f-9c8d8dfe-4cfd202c</td>\n",
       "      <td>LATERAL</td>\n",
       "      <td>Erect</td>\n",
       "      <td>10000032</td>\n",
       "      <td>F</td>\n",
       "      <td>52.0</td>\n",
       "      <td>0</td>\n",
       "      <td>0</td>\n",
       "      <td>50-55</td>\n",
       "      <td>50-60</td>\n",
       "      <td>/scratch/fs999/shamoutlab/data/physionet.org/f...</td>\n",
       "    </tr>\n",
       "    <tr>\n",
       "      <th>4</th>\n",
       "      <td>68b5c4b1-227d0485-9cc38c3f-7b84ab51-4b472714</td>\n",
       "      <td>AP</td>\n",
       "      <td>NaN</td>\n",
       "      <td>10000032</td>\n",
       "      <td>F</td>\n",
       "      <td>52.0</td>\n",
       "      <td>0</td>\n",
       "      <td>1</td>\n",
       "      <td>50-55</td>\n",
       "      <td>50-60</td>\n",
       "      <td>/scratch/fs999/shamoutlab/data/physionet.org/f...</td>\n",
       "    </tr>\n",
       "    <tr>\n",
       "      <th>...</th>\n",
       "      <td>...</td>\n",
       "      <td>...</td>\n",
       "      <td>...</td>\n",
       "      <td>...</td>\n",
       "      <td>...</td>\n",
       "      <td>...</td>\n",
       "      <td>...</td>\n",
       "      <td>...</td>\n",
       "      <td>...</td>\n",
       "      <td>...</td>\n",
       "      <td>...</td>\n",
       "    </tr>\n",
       "    <tr>\n",
       "      <th>377105</th>\n",
       "      <td>428e2c18-5721d8f3-35a05001-36f3d080-9053b83c</td>\n",
       "      <td>PA</td>\n",
       "      <td>Erect</td>\n",
       "      <td>19999733</td>\n",
       "      <td>F</td>\n",
       "      <td>19.0</td>\n",
       "      <td>0</td>\n",
       "      <td>0</td>\n",
       "      <td>&lt;20</td>\n",
       "      <td>&lt;20</td>\n",
       "      <td>/scratch/fs999/shamoutlab/data/physionet.org/f...</td>\n",
       "    </tr>\n",
       "    <tr>\n",
       "      <th>377106</th>\n",
       "      <td>58c403aa-35ff8bd9-73e39f54-8dc9cc5d-e0ec3fa9</td>\n",
       "      <td>LATERAL</td>\n",
       "      <td>Erect</td>\n",
       "      <td>19999733</td>\n",
       "      <td>F</td>\n",
       "      <td>19.0</td>\n",
       "      <td>0</td>\n",
       "      <td>0</td>\n",
       "      <td>&lt;20</td>\n",
       "      <td>&lt;20</td>\n",
       "      <td>/scratch/fs999/shamoutlab/data/physionet.org/f...</td>\n",
       "    </tr>\n",
       "    <tr>\n",
       "      <th>377107</th>\n",
       "      <td>58766883-376a15ce-3b323a28-6af950a0-16b793bd</td>\n",
       "      <td>AP</td>\n",
       "      <td>Erect</td>\n",
       "      <td>19999987</td>\n",
       "      <td>F</td>\n",
       "      <td>57.0</td>\n",
       "      <td>0</td>\n",
       "      <td>1</td>\n",
       "      <td>55-60</td>\n",
       "      <td>50-60</td>\n",
       "      <td>/scratch/fs999/shamoutlab/data/physionet.org/f...</td>\n",
       "    </tr>\n",
       "    <tr>\n",
       "      <th>377108</th>\n",
       "      <td>7ba273af-3d290f8d-e28d0ab4-484b7a86-7fc12b08</td>\n",
       "      <td>AP</td>\n",
       "      <td>Erect</td>\n",
       "      <td>19999987</td>\n",
       "      <td>F</td>\n",
       "      <td>57.0</td>\n",
       "      <td>0</td>\n",
       "      <td>1</td>\n",
       "      <td>55-60</td>\n",
       "      <td>50-60</td>\n",
       "      <td>/scratch/fs999/shamoutlab/data/physionet.org/f...</td>\n",
       "    </tr>\n",
       "    <tr>\n",
       "      <th>377109</th>\n",
       "      <td>1a1fe7e3-cbac5d93-b339aeda-86bb86b5-4f31e82e</td>\n",
       "      <td>AP</td>\n",
       "      <td>Recumbent</td>\n",
       "      <td>19999987</td>\n",
       "      <td>F</td>\n",
       "      <td>57.0</td>\n",
       "      <td>0</td>\n",
       "      <td>1</td>\n",
       "      <td>55-60</td>\n",
       "      <td>50-60</td>\n",
       "      <td>/scratch/fs999/shamoutlab/data/physionet.org/f...</td>\n",
       "    </tr>\n",
       "  </tbody>\n",
       "</table>\n",
       "<p>376221 rows × 11 columns</p>\n",
       "</div>"
      ],
      "text/plain": [
       "                                            dicom_id cxr_view cxr_orientation  \\\n",
       "0       02aa804e-bde0afdd-112c0b34-7bc16630-4e384014       PA           Erect   \n",
       "1       174413ec-4ec4c1f7-34ea26b7-c5f994f8-79ef1962  LATERAL           Erect   \n",
       "2       2a2277a9-b0ded155-c0de8eb9-c124d10e-82c5caab       PA           Erect   \n",
       "3       e084de3b-be89b11e-20fe3f9f-9c8d8dfe-4cfd202c  LATERAL           Erect   \n",
       "4       68b5c4b1-227d0485-9cc38c3f-7b84ab51-4b472714       AP             NaN   \n",
       "...                                              ...      ...             ...   \n",
       "377105  428e2c18-5721d8f3-35a05001-36f3d080-9053b83c       PA           Erect   \n",
       "377106  58c403aa-35ff8bd9-73e39f54-8dc9cc5d-e0ec3fa9  LATERAL           Erect   \n",
       "377107  58766883-376a15ce-3b323a28-6af950a0-16b793bd       AP           Erect   \n",
       "377108  7ba273af-3d290f8d-e28d0ab4-484b7a86-7fc12b08       AP           Erect   \n",
       "377109  1a1fe7e3-cbac5d93-b339aeda-86bb86b5-4f31e82e       AP       Recumbent   \n",
       "\n",
       "        subject_id gender   age  stay_expire  icu_stay  ageR5 ageR10  \\\n",
       "0         10000032      F  52.0            0         0  50-55  50-60   \n",
       "1         10000032      F  52.0            0         0  50-55  50-60   \n",
       "2         10000032      F  52.0            0         0  50-55  50-60   \n",
       "3         10000032      F  52.0            0         0  50-55  50-60   \n",
       "4         10000032      F  52.0            0         1  50-55  50-60   \n",
       "...            ...    ...   ...          ...       ...    ...    ...   \n",
       "377105    19999733      F  19.0            0         0    <20    <20   \n",
       "377106    19999733      F  19.0            0         0    <20    <20   \n",
       "377107    19999987      F  57.0            0         1  55-60  50-60   \n",
       "377108    19999987      F  57.0            0         1  55-60  50-60   \n",
       "377109    19999987      F  57.0            0         1  55-60  50-60   \n",
       "\n",
       "                                                     path  \n",
       "0       /scratch/fs999/shamoutlab/data/physionet.org/f...  \n",
       "1       /scratch/fs999/shamoutlab/data/physionet.org/f...  \n",
       "2       /scratch/fs999/shamoutlab/data/physionet.org/f...  \n",
       "3       /scratch/fs999/shamoutlab/data/physionet.org/f...  \n",
       "4       /scratch/fs999/shamoutlab/data/physionet.org/f...  \n",
       "...                                                   ...  \n",
       "377105  /scratch/fs999/shamoutlab/data/physionet.org/f...  \n",
       "377106  /scratch/fs999/shamoutlab/data/physionet.org/f...  \n",
       "377107  /scratch/fs999/shamoutlab/data/physionet.org/f...  \n",
       "377108  /scratch/fs999/shamoutlab/data/physionet.org/f...  \n",
       "377109  /scratch/fs999/shamoutlab/data/physionet.org/f...  \n",
       "\n",
       "[376221 rows x 11 columns]"
      ]
     },
     "execution_count": 4,
     "metadata": {},
     "output_type": "execute_result"
    }
   ],
   "source": [
    "meta"
   ]
  },
  {
   "cell_type": "code",
   "execution_count": 5,
   "id": "19c80e05",
   "metadata": {},
   "outputs": [
    {
     "data": {
      "text/plain": [
       "dicom_id               0\n",
       "cxr_view           15757\n",
       "cxr_orientation    41100\n",
       "subject_id             0\n",
       "gender                 0\n",
       "age                    0\n",
       "stay_expire            0\n",
       "icu_stay               0\n",
       "ageR5                  0\n",
       "ageR10                 0\n",
       "path                   0\n",
       "dtype: int64"
      ]
     },
     "execution_count": 5,
     "metadata": {},
     "output_type": "execute_result"
    }
   ],
   "source": [
    "# check missingniss in the dataset\n",
    "meta.isna().sum()"
   ]
  },
  {
   "cell_type": "code",
   "execution_count": 6,
   "id": "448f08d1",
   "metadata": {},
   "outputs": [
    {
     "data": {
      "text/plain": [
       "Counter({'AP': 146879,\n",
       "         'PA': 95885,\n",
       "         'LATERAL': 82598,\n",
       "         'LL': 35082,\n",
       "         nan: 15757,\n",
       "         'PA LLD': 4,\n",
       "         'LAO': 3,\n",
       "         'RAO': 3,\n",
       "         'AP LLD': 2,\n",
       "         'XTABLE LATERAL': 2,\n",
       "         'AP RLD': 2,\n",
       "         'SWIMMERS': 1,\n",
       "         'PA RLD': 1,\n",
       "         'AP AXIAL': 1,\n",
       "         'LPO': 1})"
      ]
     },
     "execution_count": 6,
     "metadata": {},
     "output_type": "execute_result"
    }
   ],
   "source": [
    "Counter(meta.cxr_view)"
   ]
  },
  {
   "cell_type": "code",
   "execution_count": 7,
   "id": "1163c124",
   "metadata": {},
   "outputs": [],
   "source": [
    "# limit the dataset to the views AP, PA, Lateral, LL and missing (nan)\n",
    "meta = meta[meta.cxr_view.isin(['AP','PA','LATERAL','LL',np.nan])]"
   ]
  },
  {
   "cell_type": "code",
   "execution_count": 8,
   "id": "1a5a6c11",
   "metadata": {},
   "outputs": [],
   "source": [
    "meta_image = meta[['cxr_view','cxr_orientation']]"
   ]
  },
  {
   "cell_type": "code",
   "execution_count": 9,
   "id": "1c083fc1",
   "metadata": {},
   "outputs": [
    {
     "data": {
      "text/html": [
       "<div>\n",
       "<style scoped>\n",
       "    .dataframe tbody tr th:only-of-type {\n",
       "        vertical-align: middle;\n",
       "    }\n",
       "\n",
       "    .dataframe tbody tr th {\n",
       "        vertical-align: top;\n",
       "    }\n",
       "\n",
       "    .dataframe thead th {\n",
       "        text-align: right;\n",
       "    }\n",
       "</style>\n",
       "<table border=\"1\" class=\"dataframe\">\n",
       "  <thead>\n",
       "    <tr style=\"text-align: right;\">\n",
       "      <th></th>\n",
       "      <th>cxr_view</th>\n",
       "      <th>cxr_orientation</th>\n",
       "    </tr>\n",
       "  </thead>\n",
       "  <tbody>\n",
       "    <tr>\n",
       "      <th>0</th>\n",
       "      <td>PA</td>\n",
       "      <td>Erect</td>\n",
       "    </tr>\n",
       "    <tr>\n",
       "      <th>1</th>\n",
       "      <td>LATERAL</td>\n",
       "      <td>Erect</td>\n",
       "    </tr>\n",
       "    <tr>\n",
       "      <th>2</th>\n",
       "      <td>PA</td>\n",
       "      <td>Erect</td>\n",
       "    </tr>\n",
       "    <tr>\n",
       "      <th>3</th>\n",
       "      <td>LATERAL</td>\n",
       "      <td>Erect</td>\n",
       "    </tr>\n",
       "    <tr>\n",
       "      <th>4</th>\n",
       "      <td>AP</td>\n",
       "      <td>NaN</td>\n",
       "    </tr>\n",
       "    <tr>\n",
       "      <th>...</th>\n",
       "      <td>...</td>\n",
       "      <td>...</td>\n",
       "    </tr>\n",
       "    <tr>\n",
       "      <th>377105</th>\n",
       "      <td>PA</td>\n",
       "      <td>Erect</td>\n",
       "    </tr>\n",
       "    <tr>\n",
       "      <th>377106</th>\n",
       "      <td>LATERAL</td>\n",
       "      <td>Erect</td>\n",
       "    </tr>\n",
       "    <tr>\n",
       "      <th>377107</th>\n",
       "      <td>AP</td>\n",
       "      <td>Erect</td>\n",
       "    </tr>\n",
       "    <tr>\n",
       "      <th>377108</th>\n",
       "      <td>AP</td>\n",
       "      <td>Erect</td>\n",
       "    </tr>\n",
       "    <tr>\n",
       "      <th>377109</th>\n",
       "      <td>AP</td>\n",
       "      <td>Recumbent</td>\n",
       "    </tr>\n",
       "  </tbody>\n",
       "</table>\n",
       "<p>376201 rows × 2 columns</p>\n",
       "</div>"
      ],
      "text/plain": [
       "       cxr_view cxr_orientation\n",
       "0            PA           Erect\n",
       "1       LATERAL           Erect\n",
       "2            PA           Erect\n",
       "3       LATERAL           Erect\n",
       "4            AP             NaN\n",
       "...         ...             ...\n",
       "377105       PA           Erect\n",
       "377106  LATERAL           Erect\n",
       "377107       AP           Erect\n",
       "377108       AP           Erect\n",
       "377109       AP       Recumbent\n",
       "\n",
       "[376201 rows x 2 columns]"
      ]
     },
     "execution_count": 9,
     "metadata": {},
     "output_type": "execute_result"
    }
   ],
   "source": [
    "meta_image"
   ]
  },
  {
   "cell_type": "code",
   "execution_count": 10,
   "id": "fa074eb0",
   "metadata": {},
   "outputs": [],
   "source": [
    "le1 = LabelEncoder()\n",
    "le2 = LabelEncoder()"
   ]
  },
  {
   "cell_type": "code",
   "execution_count": 11,
   "id": "103541f5",
   "metadata": {},
   "outputs": [
    {
     "name": "stdout",
     "output_type": "stream",
     "text": [
      "{'AP': 0, 'LATERAL': 1, 'LL': 2, 'PA': 3, nan: 4}\n"
     ]
    },
    {
     "name": "stderr",
     "output_type": "stream",
     "text": [
      "/tmpdata/ipykernel_183888/925356719.py:5: SettingWithCopyWarning: \n",
      "A value is trying to be set on a copy of a slice from a DataFrame.\n",
      "Try using .loc[row_indexer,col_indexer] = value instead\n",
      "\n",
      "See the caveats in the documentation: https://pandas.pydata.org/pandas-docs/stable/user_guide/indexing.html#returning-a-view-versus-a-copy\n",
      "  meta_image[impute_col_en] = le1.transform(meta_image[impute_col])\n"
     ]
    }
   ],
   "source": [
    "impute_col = 'cxr_view'\n",
    "impute_col_en = 'cxr_view_en'\n",
    "le1.fit(meta_image.loc[:,impute_col])\n",
    "print(dict(zip(le1.classes_,le1.transform(le1.classes_))))\n",
    "meta_image[impute_col_en] = le1.transform(meta_image[impute_col])"
   ]
  },
  {
   "cell_type": "code",
   "execution_count": 12,
   "id": "a8308d64",
   "metadata": {},
   "outputs": [
    {
     "name": "stdout",
     "output_type": "stream",
     "text": [
      "{'Erect': 0, 'Recumbent': 1, nan: 2}\n"
     ]
    },
    {
     "name": "stderr",
     "output_type": "stream",
     "text": [
      "/tmpdata/ipykernel_183888/3245056763.py:5: SettingWithCopyWarning: \n",
      "A value is trying to be set on a copy of a slice from a DataFrame.\n",
      "Try using .loc[row_indexer,col_indexer] = value instead\n",
      "\n",
      "See the caveats in the documentation: https://pandas.pydata.org/pandas-docs/stable/user_guide/indexing.html#returning-a-view-versus-a-copy\n",
      "  meta_image[impute_col_en] = le2.transform(meta_image[impute_col])\n"
     ]
    }
   ],
   "source": [
    "impute_col = 'cxr_orientation'\n",
    "impute_col_en = 'cxr_orientation_en'\n",
    "le2.fit(meta_image.loc[:,impute_col])\n",
    "print(dict(zip(le2.classes_,le2.transform(le2.classes_))))\n",
    "meta_image[impute_col_en] = le2.transform(meta_image[impute_col])"
   ]
  },
  {
   "cell_type": "code",
   "execution_count": 13,
   "id": "3c5e9a23",
   "metadata": {},
   "outputs": [
    {
     "data": {
      "text/html": [
       "<div>\n",
       "<style scoped>\n",
       "    .dataframe tbody tr th:only-of-type {\n",
       "        vertical-align: middle;\n",
       "    }\n",
       "\n",
       "    .dataframe tbody tr th {\n",
       "        vertical-align: top;\n",
       "    }\n",
       "\n",
       "    .dataframe thead th {\n",
       "        text-align: right;\n",
       "    }\n",
       "</style>\n",
       "<table border=\"1\" class=\"dataframe\">\n",
       "  <thead>\n",
       "    <tr style=\"text-align: right;\">\n",
       "      <th></th>\n",
       "      <th>cxr_view</th>\n",
       "      <th>cxr_orientation</th>\n",
       "      <th>cxr_view_en</th>\n",
       "      <th>cxr_orientation_en</th>\n",
       "    </tr>\n",
       "  </thead>\n",
       "  <tbody>\n",
       "    <tr>\n",
       "      <th>0</th>\n",
       "      <td>PA</td>\n",
       "      <td>Erect</td>\n",
       "      <td>3</td>\n",
       "      <td>0</td>\n",
       "    </tr>\n",
       "    <tr>\n",
       "      <th>1</th>\n",
       "      <td>LATERAL</td>\n",
       "      <td>Erect</td>\n",
       "      <td>1</td>\n",
       "      <td>0</td>\n",
       "    </tr>\n",
       "    <tr>\n",
       "      <th>2</th>\n",
       "      <td>PA</td>\n",
       "      <td>Erect</td>\n",
       "      <td>3</td>\n",
       "      <td>0</td>\n",
       "    </tr>\n",
       "    <tr>\n",
       "      <th>3</th>\n",
       "      <td>LATERAL</td>\n",
       "      <td>Erect</td>\n",
       "      <td>1</td>\n",
       "      <td>0</td>\n",
       "    </tr>\n",
       "    <tr>\n",
       "      <th>4</th>\n",
       "      <td>AP</td>\n",
       "      <td>NaN</td>\n",
       "      <td>0</td>\n",
       "      <td>2</td>\n",
       "    </tr>\n",
       "    <tr>\n",
       "      <th>...</th>\n",
       "      <td>...</td>\n",
       "      <td>...</td>\n",
       "      <td>...</td>\n",
       "      <td>...</td>\n",
       "    </tr>\n",
       "    <tr>\n",
       "      <th>377105</th>\n",
       "      <td>PA</td>\n",
       "      <td>Erect</td>\n",
       "      <td>3</td>\n",
       "      <td>0</td>\n",
       "    </tr>\n",
       "    <tr>\n",
       "      <th>377106</th>\n",
       "      <td>LATERAL</td>\n",
       "      <td>Erect</td>\n",
       "      <td>1</td>\n",
       "      <td>0</td>\n",
       "    </tr>\n",
       "    <tr>\n",
       "      <th>377107</th>\n",
       "      <td>AP</td>\n",
       "      <td>Erect</td>\n",
       "      <td>0</td>\n",
       "      <td>0</td>\n",
       "    </tr>\n",
       "    <tr>\n",
       "      <th>377108</th>\n",
       "      <td>AP</td>\n",
       "      <td>Erect</td>\n",
       "      <td>0</td>\n",
       "      <td>0</td>\n",
       "    </tr>\n",
       "    <tr>\n",
       "      <th>377109</th>\n",
       "      <td>AP</td>\n",
       "      <td>Recumbent</td>\n",
       "      <td>0</td>\n",
       "      <td>1</td>\n",
       "    </tr>\n",
       "  </tbody>\n",
       "</table>\n",
       "<p>376201 rows × 4 columns</p>\n",
       "</div>"
      ],
      "text/plain": [
       "       cxr_view cxr_orientation  cxr_view_en  cxr_orientation_en\n",
       "0            PA           Erect            3                   0\n",
       "1       LATERAL           Erect            1                   0\n",
       "2            PA           Erect            3                   0\n",
       "3       LATERAL           Erect            1                   0\n",
       "4            AP             NaN            0                   2\n",
       "...         ...             ...          ...                 ...\n",
       "377105       PA           Erect            3                   0\n",
       "377106  LATERAL           Erect            1                   0\n",
       "377107       AP           Erect            0                   0\n",
       "377108       AP           Erect            0                   0\n",
       "377109       AP       Recumbent            0                   1\n",
       "\n",
       "[376201 rows x 4 columns]"
      ]
     },
     "execution_count": 13,
     "metadata": {},
     "output_type": "execute_result"
    }
   ],
   "source": [
    "meta_image"
   ]
  },
  {
   "cell_type": "code",
   "execution_count": 14,
   "id": "302cee2c",
   "metadata": {},
   "outputs": [
    {
     "name": "stderr",
     "output_type": "stream",
     "text": [
      "/tmpdata/ipykernel_183888/3214600989.py:1: SettingWithCopyWarning: \n",
      "A value is trying to be set on a copy of a slice from a DataFrame.\n",
      "Try using .loc[row_indexer,col_indexer] = value instead\n",
      "\n",
      "See the caveats in the documentation: https://pandas.pydata.org/pandas-docs/stable/user_guide/indexing.html#returning-a-view-versus-a-copy\n",
      "  meta_image['cxr_view_en'] = meta_image['cxr_view_en'].map(lambda x: np.nan if x == 4 else x)\n",
      "/tmpdata/ipykernel_183888/3214600989.py:2: SettingWithCopyWarning: \n",
      "A value is trying to be set on a copy of a slice from a DataFrame.\n",
      "Try using .loc[row_indexer,col_indexer] = value instead\n",
      "\n",
      "See the caveats in the documentation: https://pandas.pydata.org/pandas-docs/stable/user_guide/indexing.html#returning-a-view-versus-a-copy\n",
      "  meta_image['cxr_orientation_en'] = meta_image['cxr_orientation_en'].map(lambda x: np.nan if x == 2 else x)\n"
     ]
    }
   ],
   "source": [
    "meta_image['cxr_view_en'] = meta_image['cxr_view_en'].map(lambda x: np.nan if x == 4 else x)\n",
    "meta_image['cxr_orientation_en'] = meta_image['cxr_orientation_en'].map(lambda x: np.nan if x == 2 else x)"
   ]
  },
  {
   "cell_type": "code",
   "execution_count": 15,
   "id": "fe50ed4e",
   "metadata": {},
   "outputs": [
    {
     "data": {
      "text/html": [
       "<div>\n",
       "<style scoped>\n",
       "    .dataframe tbody tr th:only-of-type {\n",
       "        vertical-align: middle;\n",
       "    }\n",
       "\n",
       "    .dataframe tbody tr th {\n",
       "        vertical-align: top;\n",
       "    }\n",
       "\n",
       "    .dataframe thead th {\n",
       "        text-align: right;\n",
       "    }\n",
       "</style>\n",
       "<table border=\"1\" class=\"dataframe\">\n",
       "  <thead>\n",
       "    <tr style=\"text-align: right;\">\n",
       "      <th></th>\n",
       "      <th>cxr_view_en</th>\n",
       "      <th>cxr_orientation_en</th>\n",
       "    </tr>\n",
       "  </thead>\n",
       "  <tbody>\n",
       "    <tr>\n",
       "      <th>0</th>\n",
       "      <td>3.0</td>\n",
       "      <td>0.0</td>\n",
       "    </tr>\n",
       "    <tr>\n",
       "      <th>1</th>\n",
       "      <td>1.0</td>\n",
       "      <td>0.0</td>\n",
       "    </tr>\n",
       "    <tr>\n",
       "      <th>2</th>\n",
       "      <td>3.0</td>\n",
       "      <td>0.0</td>\n",
       "    </tr>\n",
       "    <tr>\n",
       "      <th>3</th>\n",
       "      <td>1.0</td>\n",
       "      <td>0.0</td>\n",
       "    </tr>\n",
       "    <tr>\n",
       "      <th>4</th>\n",
       "      <td>0.0</td>\n",
       "      <td>NaN</td>\n",
       "    </tr>\n",
       "  </tbody>\n",
       "</table>\n",
       "</div>"
      ],
      "text/plain": [
       "   cxr_view_en  cxr_orientation_en\n",
       "0          3.0                 0.0\n",
       "1          1.0                 0.0\n",
       "2          3.0                 0.0\n",
       "3          1.0                 0.0\n",
       "4          0.0                 NaN"
      ]
     },
     "execution_count": 15,
     "metadata": {},
     "output_type": "execute_result"
    }
   ],
   "source": [
    "meta_image_en = meta_image.loc[:,'cxr_view_en':]\n",
    "meta_image_en.head()"
   ]
  },
  {
   "cell_type": "code",
   "execution_count": 16,
   "id": "3ea9bdd8",
   "metadata": {},
   "outputs": [],
   "source": [
    "estimator = RandomForestRegressor()"
   ]
  },
  {
   "cell_type": "code",
   "execution_count": 17,
   "id": "8dca3936",
   "metadata": {},
   "outputs": [],
   "source": [
    "imputer = IterativeImputer(estimator=estimator,max_iter=10, random_state=24)"
   ]
  },
  {
   "cell_type": "code",
   "execution_count": 18,
   "id": "e3baba92",
   "metadata": {},
   "outputs": [
    {
     "data": {
      "text/html": [
       "<style>#sk-container-id-1 {color: black;}#sk-container-id-1 pre{padding: 0;}#sk-container-id-1 div.sk-toggleable {background-color: white;}#sk-container-id-1 label.sk-toggleable__label {cursor: pointer;display: block;width: 100%;margin-bottom: 0;padding: 0.3em;box-sizing: border-box;text-align: center;}#sk-container-id-1 label.sk-toggleable__label-arrow:before {content: \"▸\";float: left;margin-right: 0.25em;color: #696969;}#sk-container-id-1 label.sk-toggleable__label-arrow:hover:before {color: black;}#sk-container-id-1 div.sk-estimator:hover label.sk-toggleable__label-arrow:before {color: black;}#sk-container-id-1 div.sk-toggleable__content {max-height: 0;max-width: 0;overflow: hidden;text-align: left;background-color: #f0f8ff;}#sk-container-id-1 div.sk-toggleable__content pre {margin: 0.2em;color: black;border-radius: 0.25em;background-color: #f0f8ff;}#sk-container-id-1 input.sk-toggleable__control:checked~div.sk-toggleable__content {max-height: 200px;max-width: 100%;overflow: auto;}#sk-container-id-1 input.sk-toggleable__control:checked~label.sk-toggleable__label-arrow:before {content: \"▾\";}#sk-container-id-1 div.sk-estimator input.sk-toggleable__control:checked~label.sk-toggleable__label {background-color: #d4ebff;}#sk-container-id-1 div.sk-label input.sk-toggleable__control:checked~label.sk-toggleable__label {background-color: #d4ebff;}#sk-container-id-1 input.sk-hidden--visually {border: 0;clip: rect(1px 1px 1px 1px);clip: rect(1px, 1px, 1px, 1px);height: 1px;margin: -1px;overflow: hidden;padding: 0;position: absolute;width: 1px;}#sk-container-id-1 div.sk-estimator {font-family: monospace;background-color: #f0f8ff;border: 1px dotted black;border-radius: 0.25em;box-sizing: border-box;margin-bottom: 0.5em;}#sk-container-id-1 div.sk-estimator:hover {background-color: #d4ebff;}#sk-container-id-1 div.sk-parallel-item::after {content: \"\";width: 100%;border-bottom: 1px solid gray;flex-grow: 1;}#sk-container-id-1 div.sk-label:hover label.sk-toggleable__label {background-color: #d4ebff;}#sk-container-id-1 div.sk-serial::before {content: \"\";position: absolute;border-left: 1px solid gray;box-sizing: border-box;top: 0;bottom: 0;left: 50%;z-index: 0;}#sk-container-id-1 div.sk-serial {display: flex;flex-direction: column;align-items: center;background-color: white;padding-right: 0.2em;padding-left: 0.2em;position: relative;}#sk-container-id-1 div.sk-item {position: relative;z-index: 1;}#sk-container-id-1 div.sk-parallel {display: flex;align-items: stretch;justify-content: center;background-color: white;position: relative;}#sk-container-id-1 div.sk-item::before, #sk-container-id-1 div.sk-parallel-item::before {content: \"\";position: absolute;border-left: 1px solid gray;box-sizing: border-box;top: 0;bottom: 0;left: 50%;z-index: -1;}#sk-container-id-1 div.sk-parallel-item {display: flex;flex-direction: column;z-index: 1;position: relative;background-color: white;}#sk-container-id-1 div.sk-parallel-item:first-child::after {align-self: flex-end;width: 50%;}#sk-container-id-1 div.sk-parallel-item:last-child::after {align-self: flex-start;width: 50%;}#sk-container-id-1 div.sk-parallel-item:only-child::after {width: 0;}#sk-container-id-1 div.sk-dashed-wrapped {border: 1px dashed gray;margin: 0 0.4em 0.5em 0.4em;box-sizing: border-box;padding-bottom: 0.4em;background-color: white;}#sk-container-id-1 div.sk-label label {font-family: monospace;font-weight: bold;display: inline-block;line-height: 1.2em;}#sk-container-id-1 div.sk-label-container {text-align: center;}#sk-container-id-1 div.sk-container {/* jupyter's `normalize.less` sets `[hidden] { display: none; }` but bootstrap.min.css set `[hidden] { display: none !important; }` so we also need the `!important` here to be able to override the default hidden behavior on the sphinx rendered scikit-learn.org. See: https://github.com/scikit-learn/scikit-learn/issues/21755 */display: inline-block !important;position: relative;}#sk-container-id-1 div.sk-text-repr-fallback {display: none;}</style><div id=\"sk-container-id-1\" class=\"sk-top-container\"><div class=\"sk-text-repr-fallback\"><pre>IterativeImputer(estimator=RandomForestRegressor(), random_state=24)</pre><b>In a Jupyter environment, please rerun this cell to show the HTML representation or trust the notebook. <br />On GitHub, the HTML representation is unable to render, please try loading this page with nbviewer.org.</b></div><div class=\"sk-container\" hidden><div class=\"sk-item sk-dashed-wrapped\"><div class=\"sk-label-container\"><div class=\"sk-label sk-toggleable\"><input class=\"sk-toggleable__control sk-hidden--visually\" id=\"sk-estimator-id-1\" type=\"checkbox\" ><label for=\"sk-estimator-id-1\" class=\"sk-toggleable__label sk-toggleable__label-arrow\">IterativeImputer</label><div class=\"sk-toggleable__content\"><pre>IterativeImputer(estimator=RandomForestRegressor(), random_state=24)</pre></div></div></div><div class=\"sk-parallel\"><div class=\"sk-parallel-item\"><div class=\"sk-item\"><div class=\"sk-label-container\"><div class=\"sk-label sk-toggleable\"><input class=\"sk-toggleable__control sk-hidden--visually\" id=\"sk-estimator-id-2\" type=\"checkbox\" ><label for=\"sk-estimator-id-2\" class=\"sk-toggleable__label sk-toggleable__label-arrow\">estimator: RandomForestRegressor</label><div class=\"sk-toggleable__content\"><pre>RandomForestRegressor()</pre></div></div></div><div class=\"sk-serial\"><div class=\"sk-item\"><div class=\"sk-estimator sk-toggleable\"><input class=\"sk-toggleable__control sk-hidden--visually\" id=\"sk-estimator-id-3\" type=\"checkbox\" ><label for=\"sk-estimator-id-3\" class=\"sk-toggleable__label sk-toggleable__label-arrow\">RandomForestRegressor</label><div class=\"sk-toggleable__content\"><pre>RandomForestRegressor()</pre></div></div></div></div></div></div></div></div></div></div>"
      ],
      "text/plain": [
       "IterativeImputer(estimator=RandomForestRegressor(), random_state=24)"
      ]
     },
     "execution_count": 18,
     "metadata": {},
     "output_type": "execute_result"
    }
   ],
   "source": [
    "imputer.fit(meta_image_en)"
   ]
  },
  {
   "cell_type": "code",
   "execution_count": 19,
   "id": "ddd31bed",
   "metadata": {},
   "outputs": [],
   "source": [
    "imputed_cols = imputer.transform(meta_image_en)\n",
    "meta_image.loc[:,'cxr_view_en':] = imputed_cols.round()"
   ]
  },
  {
   "cell_type": "code",
   "execution_count": 20,
   "id": "1f792c4a",
   "metadata": {},
   "outputs": [
    {
     "name": "stderr",
     "output_type": "stream",
     "text": [
      "/tmpdata/ipykernel_183888/3431378646.py:1: SettingWithCopyWarning: \n",
      "A value is trying to be set on a copy of a slice from a DataFrame.\n",
      "Try using .loc[row_indexer,col_indexer] = value instead\n",
      "\n",
      "See the caveats in the documentation: https://pandas.pydata.org/pandas-docs/stable/user_guide/indexing.html#returning-a-view-versus-a-copy\n",
      "  meta.cxr_view = list(le1.inverse_transform(meta_image.cxr_view_en.astype('int')))\n",
      "/tmpdata/ipykernel_183888/3431378646.py:2: SettingWithCopyWarning: \n",
      "A value is trying to be set on a copy of a slice from a DataFrame.\n",
      "Try using .loc[row_indexer,col_indexer] = value instead\n",
      "\n",
      "See the caveats in the documentation: https://pandas.pydata.org/pandas-docs/stable/user_guide/indexing.html#returning-a-view-versus-a-copy\n",
      "  meta.cxr_orientation = list(le2.inverse_transform(meta_image.cxr_orientation_en.astype('int')))\n"
     ]
    }
   ],
   "source": [
    "meta.cxr_view = list(le1.inverse_transform(meta_image.cxr_view_en.astype('int')))\n",
    "meta.cxr_orientation = list(le2.inverse_transform(meta_image.cxr_orientation_en.astype('int')))"
   ]
  },
  {
   "cell_type": "code",
   "execution_count": 21,
   "id": "fdf79f73",
   "metadata": {},
   "outputs": [
    {
     "name": "stderr",
     "output_type": "stream",
     "text": [
      "/tmpdata/ipykernel_183888/626691844.py:1: SettingWithCopyWarning: \n",
      "A value is trying to be set on a copy of a slice from a DataFrame.\n",
      "Try using .loc[row_indexer,col_indexer] = value instead\n",
      "\n",
      "See the caveats in the documentation: https://pandas.pydata.org/pandas-docs/stable/user_guide/indexing.html#returning-a-view-versus-a-copy\n",
      "  meta['male'] = meta['gender'].apply(lambda x: 0. if x == 'F' else 1.)\n",
      "/tmpdata/ipykernel_183888/626691844.py:2: SettingWithCopyWarning: \n",
      "A value is trying to be set on a copy of a slice from a DataFrame.\n",
      "Try using .loc[row_indexer,col_indexer] = value instead\n",
      "\n",
      "See the caveats in the documentation: https://pandas.pydata.org/pandas-docs/stable/user_guide/indexing.html#returning-a-view-versus-a-copy\n",
      "  meta['female'] = meta['gender'].apply(lambda x: 0. if x == 'M' else 1.)\n"
     ]
    }
   ],
   "source": [
    "meta['male'] = meta['gender'].apply(lambda x: 0. if x == 'F' else 1.)\n",
    "meta['female'] = meta['gender'].apply(lambda x: 0. if x == 'M' else 1.)"
   ]
  },
  {
   "cell_type": "code",
   "execution_count": 22,
   "id": "f2703cd7",
   "metadata": {},
   "outputs": [
    {
     "name": "stderr",
     "output_type": "stream",
     "text": [
      "/tmpdata/ipykernel_183888/609462056.py:1: SettingWithCopyWarning: \n",
      "A value is trying to be set on a copy of a slice from a DataFrame.\n",
      "Try using .loc[row_indexer,col_indexer] = value instead\n",
      "\n",
      "See the caveats in the documentation: https://pandas.pydata.org/pandas-docs/stable/user_guide/indexing.html#returning-a-view-versus-a-copy\n",
      "  meta['age_norm'] = meta.age.apply(lambda x: (x-16)/(100-16))\n"
     ]
    }
   ],
   "source": [
    "meta['age_norm'] = meta.age.apply(lambda x: (x-16)/(100-16))"
   ]
  },
  {
   "cell_type": "code",
   "execution_count": 23,
   "id": "de09fd17",
   "metadata": {},
   "outputs": [
    {
     "data": {
      "text/plain": [
       "dicom_id           0\n",
       "cxr_view           0\n",
       "cxr_orientation    0\n",
       "subject_id         0\n",
       "gender             0\n",
       "age                0\n",
       "stay_expire        0\n",
       "icu_stay           0\n",
       "ageR5              0\n",
       "ageR10             0\n",
       "path               0\n",
       "male               0\n",
       "female             0\n",
       "age_norm           0\n",
       "dtype: int64"
      ]
     },
     "execution_count": 23,
     "metadata": {},
     "output_type": "execute_result"
    }
   ],
   "source": [
    "meta.isna().sum()"
   ]
  },
  {
   "cell_type": "markdown",
   "id": "780a7344",
   "metadata": {},
   "source": [
    "# Datasets creation"
   ]
  },
  {
   "cell_type": "code",
   "execution_count": 26,
   "id": "953367c2",
   "metadata": {},
   "outputs": [
    {
     "data": {
      "text/plain": [
       "['20-25',\n",
       " '25-30',\n",
       " '30-35',\n",
       " '35-40',\n",
       " '40-45',\n",
       " '45-50',\n",
       " '50-55',\n",
       " '55-60',\n",
       " '60-65',\n",
       " '65-70',\n",
       " '70-75',\n",
       " '75-80',\n",
       " '80-85',\n",
       " '85-90',\n",
       " '90+',\n",
       " '<20']"
      ]
     },
     "execution_count": 26,
     "metadata": {},
     "output_type": "execute_result"
    }
   ],
   "source": [
    "sorted(meta.ageR5.unique())"
   ]
  },
  {
   "cell_type": "code",
   "execution_count": 27,
   "id": "a1298a59",
   "metadata": {},
   "outputs": [
    {
     "name": "stderr",
     "output_type": "stream",
     "text": [
      "/tmpdata/ipykernel_183888/146787169.py:1: SettingWithCopyWarning: \n",
      "A value is trying to be set on a copy of a slice from a DataFrame.\n",
      "Try using .loc[row_indexer,col_indexer] = value instead\n",
      "\n",
      "See the caveats in the documentation: https://pandas.pydata.org/pandas-docs/stable/user_guide/indexing.html#returning-a-view-versus-a-copy\n",
      "  meta['<20'] = meta.ageR5.apply(lambda x: 1. if x == '<20' else 0.)\n",
      "/tmpdata/ipykernel_183888/146787169.py:2: SettingWithCopyWarning: \n",
      "A value is trying to be set on a copy of a slice from a DataFrame.\n",
      "Try using .loc[row_indexer,col_indexer] = value instead\n",
      "\n",
      "See the caveats in the documentation: https://pandas.pydata.org/pandas-docs/stable/user_guide/indexing.html#returning-a-view-versus-a-copy\n",
      "  meta['20-25'] = meta.ageR5.apply(lambda x: 1. if x == '20-25' else 0.)\n",
      "/tmpdata/ipykernel_183888/146787169.py:3: SettingWithCopyWarning: \n",
      "A value is trying to be set on a copy of a slice from a DataFrame.\n",
      "Try using .loc[row_indexer,col_indexer] = value instead\n",
      "\n",
      "See the caveats in the documentation: https://pandas.pydata.org/pandas-docs/stable/user_guide/indexing.html#returning-a-view-versus-a-copy\n",
      "  meta['25-30'] = meta.ageR5.apply(lambda x: 1. if x == '25-30' else 0.)\n",
      "/tmpdata/ipykernel_183888/146787169.py:4: SettingWithCopyWarning: \n",
      "A value is trying to be set on a copy of a slice from a DataFrame.\n",
      "Try using .loc[row_indexer,col_indexer] = value instead\n",
      "\n",
      "See the caveats in the documentation: https://pandas.pydata.org/pandas-docs/stable/user_guide/indexing.html#returning-a-view-versus-a-copy\n",
      "  meta['30-35'] = meta.ageR5.apply(lambda x: 1. if x == '30-35' else 0.)\n",
      "/tmpdata/ipykernel_183888/146787169.py:5: SettingWithCopyWarning: \n",
      "A value is trying to be set on a copy of a slice from a DataFrame.\n",
      "Try using .loc[row_indexer,col_indexer] = value instead\n",
      "\n",
      "See the caveats in the documentation: https://pandas.pydata.org/pandas-docs/stable/user_guide/indexing.html#returning-a-view-versus-a-copy\n",
      "  meta['35-40'] = meta.ageR5.apply(lambda x: 1. if x == '35-40' else 0.)\n",
      "/tmpdata/ipykernel_183888/146787169.py:6: SettingWithCopyWarning: \n",
      "A value is trying to be set on a copy of a slice from a DataFrame.\n",
      "Try using .loc[row_indexer,col_indexer] = value instead\n",
      "\n",
      "See the caveats in the documentation: https://pandas.pydata.org/pandas-docs/stable/user_guide/indexing.html#returning-a-view-versus-a-copy\n",
      "  meta['40-45'] = meta.ageR5.apply(lambda x: 1. if x == '40-45' else 0.)\n",
      "/tmpdata/ipykernel_183888/146787169.py:7: SettingWithCopyWarning: \n",
      "A value is trying to be set on a copy of a slice from a DataFrame.\n",
      "Try using .loc[row_indexer,col_indexer] = value instead\n",
      "\n",
      "See the caveats in the documentation: https://pandas.pydata.org/pandas-docs/stable/user_guide/indexing.html#returning-a-view-versus-a-copy\n",
      "  meta['45-50'] = meta.ageR5.apply(lambda x: 1. if x == '45-50' else 0.)\n",
      "/tmpdata/ipykernel_183888/146787169.py:8: SettingWithCopyWarning: \n",
      "A value is trying to be set on a copy of a slice from a DataFrame.\n",
      "Try using .loc[row_indexer,col_indexer] = value instead\n",
      "\n",
      "See the caveats in the documentation: https://pandas.pydata.org/pandas-docs/stable/user_guide/indexing.html#returning-a-view-versus-a-copy\n",
      "  meta['50-55'] = meta.ageR5.apply(lambda x: 1. if x == '50-55' else 0.)\n",
      "/tmpdata/ipykernel_183888/146787169.py:9: SettingWithCopyWarning: \n",
      "A value is trying to be set on a copy of a slice from a DataFrame.\n",
      "Try using .loc[row_indexer,col_indexer] = value instead\n",
      "\n",
      "See the caveats in the documentation: https://pandas.pydata.org/pandas-docs/stable/user_guide/indexing.html#returning-a-view-versus-a-copy\n",
      "  meta['55-60'] = meta.ageR5.apply(lambda x: 1. if x == '55-60' else 0.)\n",
      "/tmpdata/ipykernel_183888/146787169.py:10: SettingWithCopyWarning: \n",
      "A value is trying to be set on a copy of a slice from a DataFrame.\n",
      "Try using .loc[row_indexer,col_indexer] = value instead\n",
      "\n",
      "See the caveats in the documentation: https://pandas.pydata.org/pandas-docs/stable/user_guide/indexing.html#returning-a-view-versus-a-copy\n",
      "  meta['60-65'] = meta.ageR5.apply(lambda x: 1. if x == '60-65' else 0.)\n",
      "/tmpdata/ipykernel_183888/146787169.py:11: SettingWithCopyWarning: \n",
      "A value is trying to be set on a copy of a slice from a DataFrame.\n",
      "Try using .loc[row_indexer,col_indexer] = value instead\n",
      "\n",
      "See the caveats in the documentation: https://pandas.pydata.org/pandas-docs/stable/user_guide/indexing.html#returning-a-view-versus-a-copy\n",
      "  meta['65-70'] = meta.ageR5.apply(lambda x: 1. if x == '65-70' else 0.)\n",
      "/tmpdata/ipykernel_183888/146787169.py:12: SettingWithCopyWarning: \n",
      "A value is trying to be set on a copy of a slice from a DataFrame.\n",
      "Try using .loc[row_indexer,col_indexer] = value instead\n",
      "\n",
      "See the caveats in the documentation: https://pandas.pydata.org/pandas-docs/stable/user_guide/indexing.html#returning-a-view-versus-a-copy\n",
      "  meta['70-75'] = meta.ageR5.apply(lambda x: 1. if x == '70-75' else 0.)\n",
      "/tmpdata/ipykernel_183888/146787169.py:13: SettingWithCopyWarning: \n",
      "A value is trying to be set on a copy of a slice from a DataFrame.\n",
      "Try using .loc[row_indexer,col_indexer] = value instead\n",
      "\n",
      "See the caveats in the documentation: https://pandas.pydata.org/pandas-docs/stable/user_guide/indexing.html#returning-a-view-versus-a-copy\n",
      "  meta['75-80'] = meta.ageR5.apply(lambda x: 1. if x == '75-80' else 0.)\n",
      "/tmpdata/ipykernel_183888/146787169.py:14: SettingWithCopyWarning: \n",
      "A value is trying to be set on a copy of a slice from a DataFrame.\n",
      "Try using .loc[row_indexer,col_indexer] = value instead\n",
      "\n",
      "See the caveats in the documentation: https://pandas.pydata.org/pandas-docs/stable/user_guide/indexing.html#returning-a-view-versus-a-copy\n",
      "  meta['80-85'] = meta.ageR5.apply(lambda x: 1. if x == '80-85' else 0.)\n",
      "/tmpdata/ipykernel_183888/146787169.py:15: SettingWithCopyWarning: \n",
      "A value is trying to be set on a copy of a slice from a DataFrame.\n",
      "Try using .loc[row_indexer,col_indexer] = value instead\n",
      "\n",
      "See the caveats in the documentation: https://pandas.pydata.org/pandas-docs/stable/user_guide/indexing.html#returning-a-view-versus-a-copy\n",
      "  meta['85-90'] = meta.ageR5.apply(lambda x: 1. if x == '85-90' else 0.)\n",
      "/tmpdata/ipykernel_183888/146787169.py:16: SettingWithCopyWarning: \n",
      "A value is trying to be set on a copy of a slice from a DataFrame.\n",
      "Try using .loc[row_indexer,col_indexer] = value instead\n",
      "\n",
      "See the caveats in the documentation: https://pandas.pydata.org/pandas-docs/stable/user_guide/indexing.html#returning-a-view-versus-a-copy\n",
      "  meta['90+'] = meta.ageR5.apply(lambda x: 1. if x == '90+' else 0.)\n"
     ]
    }
   ],
   "source": [
    "meta['<20'] = meta.ageR5.apply(lambda x: 1. if x == '<20' else 0.)\n",
    "meta['20-25'] = meta.ageR5.apply(lambda x: 1. if x == '20-25' else 0.)\n",
    "meta['25-30'] = meta.ageR5.apply(lambda x: 1. if x == '25-30' else 0.)\n",
    "meta['30-35'] = meta.ageR5.apply(lambda x: 1. if x == '30-35' else 0.)\n",
    "meta['35-40'] = meta.ageR5.apply(lambda x: 1. if x == '35-40' else 0.)\n",
    "meta['40-45'] = meta.ageR5.apply(lambda x: 1. if x == '40-45' else 0.)\n",
    "meta['45-50'] = meta.ageR5.apply(lambda x: 1. if x == '45-50' else 0.)\n",
    "meta['50-55'] = meta.ageR5.apply(lambda x: 1. if x == '50-55' else 0.)\n",
    "meta['55-60'] = meta.ageR5.apply(lambda x: 1. if x == '55-60' else 0.)\n",
    "meta['60-65'] = meta.ageR5.apply(lambda x: 1. if x == '60-65' else 0.)\n",
    "meta['65-70'] = meta.ageR5.apply(lambda x: 1. if x == '65-70' else 0.)\n",
    "meta['70-75'] = meta.ageR5.apply(lambda x: 1. if x == '70-75' else 0.)\n",
    "meta['75-80'] = meta.ageR5.apply(lambda x: 1. if x == '75-80' else 0.)\n",
    "meta['80-85'] = meta.ageR5.apply(lambda x: 1. if x == '80-85' else 0.)\n",
    "meta['85-90'] = meta.ageR5.apply(lambda x: 1. if x == '85-90' else 0.)\n",
    "meta['90+'] = meta.ageR5.apply(lambda x: 1. if x == '90+' else 0.)"
   ]
  },
  {
   "cell_type": "code",
   "execution_count": 28,
   "id": "a1a32b22",
   "metadata": {},
   "outputs": [
    {
     "data": {
      "text/plain": [
       "Index(['dicom_id', 'cxr_view', 'cxr_orientation', 'subject_id', 'gender',\n",
       "       'age', 'stay_expire', 'icu_stay', 'ageR5', 'ageR10', 'path', 'male',\n",
       "       'female', 'age_norm', '<20', '20-25', '25-30', '30-35', '35-40',\n",
       "       '40-45', '45-50', '50-55', '55-60', '60-65', '65-70', '70-75', '75-80',\n",
       "       '80-85', '85-90', '90+'],\n",
       "      dtype='object')"
      ]
     },
     "execution_count": 28,
     "metadata": {},
     "output_type": "execute_result"
    }
   ],
   "source": [
    "meta.columns"
   ]
  },
  {
   "cell_type": "code",
   "execution_count": 29,
   "id": "81390cc5",
   "metadata": {
    "scrolled": true
   },
   "outputs": [
    {
     "name": "stderr",
     "output_type": "stream",
     "text": [
      "/tmpdata/ipykernel_183888/2400148703.py:1: SettingWithCopyWarning: \n",
      "A value is trying to be set on a copy of a slice from a DataFrame.\n",
      "Try using .loc[row_indexer,col_indexer] = value instead\n",
      "\n",
      "See the caveats in the documentation: https://pandas.pydata.org/pandas-docs/stable/user_guide/indexing.html#returning-a-view-versus-a-copy\n",
      "  meta['<20*'] = meta.ageR10.apply(lambda x: 1. if x == '<20' else 0.)\n",
      "/tmpdata/ipykernel_183888/2400148703.py:2: SettingWithCopyWarning: \n",
      "A value is trying to be set on a copy of a slice from a DataFrame.\n",
      "Try using .loc[row_indexer,col_indexer] = value instead\n",
      "\n",
      "See the caveats in the documentation: https://pandas.pydata.org/pandas-docs/stable/user_guide/indexing.html#returning-a-view-versus-a-copy\n",
      "  meta['20-30'] = meta.ageR10.apply(lambda x: 1. if x == '20-30' else 0.)\n",
      "/tmpdata/ipykernel_183888/2400148703.py:3: SettingWithCopyWarning: \n",
      "A value is trying to be set on a copy of a slice from a DataFrame.\n",
      "Try using .loc[row_indexer,col_indexer] = value instead\n",
      "\n",
      "See the caveats in the documentation: https://pandas.pydata.org/pandas-docs/stable/user_guide/indexing.html#returning-a-view-versus-a-copy\n",
      "  meta['30-40'] = meta.ageR10.apply(lambda x: 1. if x == '30-40' else 0.)\n",
      "/tmpdata/ipykernel_183888/2400148703.py:4: SettingWithCopyWarning: \n",
      "A value is trying to be set on a copy of a slice from a DataFrame.\n",
      "Try using .loc[row_indexer,col_indexer] = value instead\n",
      "\n",
      "See the caveats in the documentation: https://pandas.pydata.org/pandas-docs/stable/user_guide/indexing.html#returning-a-view-versus-a-copy\n",
      "  meta['40-50'] = meta.ageR10.apply(lambda x: 1. if x == '40-50' else 0.)\n",
      "/tmpdata/ipykernel_183888/2400148703.py:5: SettingWithCopyWarning: \n",
      "A value is trying to be set on a copy of a slice from a DataFrame.\n",
      "Try using .loc[row_indexer,col_indexer] = value instead\n",
      "\n",
      "See the caveats in the documentation: https://pandas.pydata.org/pandas-docs/stable/user_guide/indexing.html#returning-a-view-versus-a-copy\n",
      "  meta['50-60'] = meta.ageR10.apply(lambda x: 1. if x == '50-60' else 0.)\n",
      "/tmpdata/ipykernel_183888/2400148703.py:6: SettingWithCopyWarning: \n",
      "A value is trying to be set on a copy of a slice from a DataFrame.\n",
      "Try using .loc[row_indexer,col_indexer] = value instead\n",
      "\n",
      "See the caveats in the documentation: https://pandas.pydata.org/pandas-docs/stable/user_guide/indexing.html#returning-a-view-versus-a-copy\n",
      "  meta['60-70'] = meta.ageR10.apply(lambda x: 1. if x == '60-70' else 0.)\n",
      "/tmpdata/ipykernel_183888/2400148703.py:7: SettingWithCopyWarning: \n",
      "A value is trying to be set on a copy of a slice from a DataFrame.\n",
      "Try using .loc[row_indexer,col_indexer] = value instead\n",
      "\n",
      "See the caveats in the documentation: https://pandas.pydata.org/pandas-docs/stable/user_guide/indexing.html#returning-a-view-versus-a-copy\n",
      "  meta['70-80'] = meta.ageR10.apply(lambda x: 1. if x == '70-80' else 0.)\n",
      "/tmpdata/ipykernel_183888/2400148703.py:8: SettingWithCopyWarning: \n",
      "A value is trying to be set on a copy of a slice from a DataFrame.\n",
      "Try using .loc[row_indexer,col_indexer] = value instead\n",
      "\n",
      "See the caveats in the documentation: https://pandas.pydata.org/pandas-docs/stable/user_guide/indexing.html#returning-a-view-versus-a-copy\n",
      "  meta['80-90'] = meta.ageR10.apply(lambda x: 1. if x == '80-90' else 0.)\n",
      "/tmpdata/ipykernel_183888/2400148703.py:9: SettingWithCopyWarning: \n",
      "A value is trying to be set on a copy of a slice from a DataFrame.\n",
      "Try using .loc[row_indexer,col_indexer] = value instead\n",
      "\n",
      "See the caveats in the documentation: https://pandas.pydata.org/pandas-docs/stable/user_guide/indexing.html#returning-a-view-versus-a-copy\n",
      "  meta['90+*'] = meta.ageR10.apply(lambda x: 1. if x == '90+' else 0.)\n"
     ]
    }
   ],
   "source": [
    "meta['<20*'] = meta.ageR10.apply(lambda x: 1. if x == '<20' else 0.)\n",
    "meta['20-30'] = meta.ageR10.apply(lambda x: 1. if x == '20-30' else 0.)\n",
    "meta['30-40'] = meta.ageR10.apply(lambda x: 1. if x == '30-40' else 0.)\n",
    "meta['40-50'] = meta.ageR10.apply(lambda x: 1. if x == '40-50' else 0.)\n",
    "meta['50-60'] = meta.ageR10.apply(lambda x: 1. if x == '50-60' else 0.)\n",
    "meta['60-70'] = meta.ageR10.apply(lambda x: 1. if x == '60-70' else 0.)\n",
    "meta['70-80'] = meta.ageR10.apply(lambda x: 1. if x == '70-80' else 0.)\n",
    "meta['80-90'] = meta.ageR10.apply(lambda x: 1. if x == '80-90' else 0.)\n",
    "meta['90+*'] = meta.ageR10.apply(lambda x: 1. if x == '90+' else 0.)"
   ]
  },
  {
   "cell_type": "code",
   "execution_count": 30,
   "id": "e9406941",
   "metadata": {},
   "outputs": [
    {
     "data": {
      "text/plain": [
       "Index(['dicom_id', 'cxr_view', 'cxr_orientation', 'subject_id', 'gender',\n",
       "       'age', 'stay_expire', 'icu_stay', 'ageR5', 'ageR10', 'path', 'male',\n",
       "       'female', 'age_norm', '<20', '20-25', '25-30', '30-35', '35-40',\n",
       "       '40-45', '45-50', '50-55', '55-60', '60-65', '65-70', '70-75', '75-80',\n",
       "       '80-85', '85-90', '90+', '<20*', '20-30', '30-40', '40-50', '50-60',\n",
       "       '60-70', '70-80', '80-90', '90+*'],\n",
       "      dtype='object')"
      ]
     },
     "execution_count": 30,
     "metadata": {},
     "output_type": "execute_result"
    }
   ],
   "source": [
    "meta.columns"
   ]
  },
  {
   "cell_type": "code",
   "execution_count": 31,
   "id": "07fb0826",
   "metadata": {},
   "outputs": [
    {
     "data": {
      "text/plain": [
       "array(['PA', 'LATERAL', 'AP', 'LL'], dtype=object)"
      ]
     },
     "execution_count": 31,
     "metadata": {},
     "output_type": "execute_result"
    }
   ],
   "source": [
    "meta.cxr_view.unique()"
   ]
  },
  {
   "cell_type": "code",
   "execution_count": 32,
   "id": "6fbf34c7",
   "metadata": {},
   "outputs": [
    {
     "name": "stderr",
     "output_type": "stream",
     "text": [
      "/tmpdata/ipykernel_183888/479291025.py:1: SettingWithCopyWarning: \n",
      "A value is trying to be set on a copy of a slice from a DataFrame.\n",
      "Try using .loc[row_indexer,col_indexer] = value instead\n",
      "\n",
      "See the caveats in the documentation: https://pandas.pydata.org/pandas-docs/stable/user_guide/indexing.html#returning-a-view-versus-a-copy\n",
      "  meta['PA'] = meta.cxr_view.apply(lambda x: 1. if x == 'PA' else 0.)\n",
      "/tmpdata/ipykernel_183888/479291025.py:2: SettingWithCopyWarning: \n",
      "A value is trying to be set on a copy of a slice from a DataFrame.\n",
      "Try using .loc[row_indexer,col_indexer] = value instead\n",
      "\n",
      "See the caveats in the documentation: https://pandas.pydata.org/pandas-docs/stable/user_guide/indexing.html#returning-a-view-versus-a-copy\n",
      "  meta['LATERAL'] = meta.cxr_view.apply(lambda x: 1. if x == 'LATERAL' else 0.)\n",
      "/tmpdata/ipykernel_183888/479291025.py:3: SettingWithCopyWarning: \n",
      "A value is trying to be set on a copy of a slice from a DataFrame.\n",
      "Try using .loc[row_indexer,col_indexer] = value instead\n",
      "\n",
      "See the caveats in the documentation: https://pandas.pydata.org/pandas-docs/stable/user_guide/indexing.html#returning-a-view-versus-a-copy\n",
      "  meta['AP'] = meta.cxr_view.apply(lambda x: 1. if x == 'AP' else 0.)\n",
      "/tmpdata/ipykernel_183888/479291025.py:4: SettingWithCopyWarning: \n",
      "A value is trying to be set on a copy of a slice from a DataFrame.\n",
      "Try using .loc[row_indexer,col_indexer] = value instead\n",
      "\n",
      "See the caveats in the documentation: https://pandas.pydata.org/pandas-docs/stable/user_guide/indexing.html#returning-a-view-versus-a-copy\n",
      "  meta['LL'] = meta.cxr_view.apply(lambda x: 1. if x == 'LL' else 0.)\n"
     ]
    }
   ],
   "source": [
    "meta['PA'] = meta.cxr_view.apply(lambda x: 1. if x == 'PA' else 0.)\n",
    "meta['LATERAL'] = meta.cxr_view.apply(lambda x: 1. if x == 'LATERAL' else 0.)\n",
    "meta['AP'] = meta.cxr_view.apply(lambda x: 1. if x == 'AP' else 0.)\n",
    "meta['LL'] = meta.cxr_view.apply(lambda x: 1. if x == 'LL' else 0.)\n"
   ]
  },
  {
   "cell_type": "code",
   "execution_count": 33,
   "id": "5c40a976",
   "metadata": {},
   "outputs": [
    {
     "data": {
      "text/plain": [
       "Index(['dicom_id', 'cxr_view', 'cxr_orientation', 'subject_id', 'gender',\n",
       "       'age', 'stay_expire', 'icu_stay', 'ageR5', 'ageR10', 'path', 'male',\n",
       "       'female', 'age_norm', '<20', '20-25', '25-30', '30-35', '35-40',\n",
       "       '40-45', '45-50', '50-55', '55-60', '60-65', '65-70', '70-75', '75-80',\n",
       "       '80-85', '85-90', '90+', '<20*', '20-30', '30-40', '40-50', '50-60',\n",
       "       '60-70', '70-80', '80-90', '90+*', 'PA', 'LATERAL', 'AP', 'LL'],\n",
       "      dtype='object')"
      ]
     },
     "execution_count": 33,
     "metadata": {},
     "output_type": "execute_result"
    }
   ],
   "source": [
    "meta.columns"
   ]
  },
  {
   "cell_type": "code",
   "execution_count": 34,
   "id": "c35c0364",
   "metadata": {},
   "outputs": [
    {
     "data": {
      "text/plain": [
       "array(['Erect', 'Recumbent'], dtype=object)"
      ]
     },
     "execution_count": 34,
     "metadata": {},
     "output_type": "execute_result"
    }
   ],
   "source": [
    "meta.cxr_orientation.unique()"
   ]
  },
  {
   "cell_type": "code",
   "execution_count": 35,
   "id": "48bc2c96",
   "metadata": {},
   "outputs": [
    {
     "name": "stderr",
     "output_type": "stream",
     "text": [
      "/tmpdata/ipykernel_183888/2713321735.py:1: SettingWithCopyWarning: \n",
      "A value is trying to be set on a copy of a slice from a DataFrame.\n",
      "Try using .loc[row_indexer,col_indexer] = value instead\n",
      "\n",
      "See the caveats in the documentation: https://pandas.pydata.org/pandas-docs/stable/user_guide/indexing.html#returning-a-view-versus-a-copy\n",
      "  meta['Erect'] = meta.cxr_orientation.apply(lambda x: 1. if x == 'Erect' else 0.)\n",
      "/tmpdata/ipykernel_183888/2713321735.py:2: SettingWithCopyWarning: \n",
      "A value is trying to be set on a copy of a slice from a DataFrame.\n",
      "Try using .loc[row_indexer,col_indexer] = value instead\n",
      "\n",
      "See the caveats in the documentation: https://pandas.pydata.org/pandas-docs/stable/user_guide/indexing.html#returning-a-view-versus-a-copy\n",
      "  meta['Recumbent'] = meta.cxr_orientation.apply(lambda x: 1. if x == 'Recumbent' else 0.)\n"
     ]
    }
   ],
   "source": [
    "meta['Erect'] = meta.cxr_orientation.apply(lambda x: 1. if x == 'Erect' else 0.)\n",
    "meta['Recumbent'] = meta.cxr_orientation.apply(lambda x: 1. if x == 'Recumbent' else 0.)"
   ]
  },
  {
   "cell_type": "code",
   "execution_count": 36,
   "id": "69d02431",
   "metadata": {},
   "outputs": [
    {
     "data": {
      "text/plain": [
       "Index(['dicom_id', 'cxr_view', 'cxr_orientation', 'subject_id', 'gender',\n",
       "       'age', 'stay_expire', 'icu_stay', 'ageR5', 'ageR10', 'path', 'male',\n",
       "       'female', 'age_norm', '<20', '20-25', '25-30', '30-35', '35-40',\n",
       "       '40-45', '45-50', '50-55', '55-60', '60-65', '65-70', '70-75', '75-80',\n",
       "       '80-85', '85-90', '90+', '<20*', '20-30', '30-40', '40-50', '50-60',\n",
       "       '60-70', '70-80', '80-90', '90+*', 'PA', 'LATERAL', 'AP', 'LL', 'Erect',\n",
       "       'Recumbent'],\n",
       "      dtype='object')"
      ]
     },
     "execution_count": 36,
     "metadata": {},
     "output_type": "execute_result"
    }
   ],
   "source": [
    "meta.columns"
   ]
  },
  {
   "cell_type": "code",
   "execution_count": 37,
   "id": "097302d6",
   "metadata": {},
   "outputs": [
    {
     "data": {
      "text/html": [
       "<div>\n",
       "<style scoped>\n",
       "    .dataframe tbody tr th:only-of-type {\n",
       "        vertical-align: middle;\n",
       "    }\n",
       "\n",
       "    .dataframe tbody tr th {\n",
       "        vertical-align: top;\n",
       "    }\n",
       "\n",
       "    .dataframe thead th {\n",
       "        text-align: right;\n",
       "    }\n",
       "</style>\n",
       "<table border=\"1\" class=\"dataframe\">\n",
       "  <thead>\n",
       "    <tr style=\"text-align: right;\">\n",
       "      <th></th>\n",
       "      <th>dicom_id</th>\n",
       "      <th>cxr_view</th>\n",
       "      <th>cxr_orientation</th>\n",
       "      <th>subject_id</th>\n",
       "      <th>gender</th>\n",
       "      <th>age</th>\n",
       "      <th>stay_expire</th>\n",
       "      <th>icu_stay</th>\n",
       "      <th>ageR5</th>\n",
       "      <th>ageR10</th>\n",
       "      <th>...</th>\n",
       "      <th>60-70</th>\n",
       "      <th>70-80</th>\n",
       "      <th>80-90</th>\n",
       "      <th>90+*</th>\n",
       "      <th>PA</th>\n",
       "      <th>LATERAL</th>\n",
       "      <th>AP</th>\n",
       "      <th>LL</th>\n",
       "      <th>Erect</th>\n",
       "      <th>Recumbent</th>\n",
       "    </tr>\n",
       "  </thead>\n",
       "  <tbody>\n",
       "    <tr>\n",
       "      <th>0</th>\n",
       "      <td>02aa804e-bde0afdd-112c0b34-7bc16630-4e384014</td>\n",
       "      <td>PA</td>\n",
       "      <td>Erect</td>\n",
       "      <td>10000032</td>\n",
       "      <td>F</td>\n",
       "      <td>52.0</td>\n",
       "      <td>0</td>\n",
       "      <td>0</td>\n",
       "      <td>50-55</td>\n",
       "      <td>50-60</td>\n",
       "      <td>...</td>\n",
       "      <td>0.0</td>\n",
       "      <td>0.0</td>\n",
       "      <td>0.0</td>\n",
       "      <td>0.0</td>\n",
       "      <td>1.0</td>\n",
       "      <td>0.0</td>\n",
       "      <td>0.0</td>\n",
       "      <td>0.0</td>\n",
       "      <td>1.0</td>\n",
       "      <td>0.0</td>\n",
       "    </tr>\n",
       "    <tr>\n",
       "      <th>1</th>\n",
       "      <td>174413ec-4ec4c1f7-34ea26b7-c5f994f8-79ef1962</td>\n",
       "      <td>LATERAL</td>\n",
       "      <td>Erect</td>\n",
       "      <td>10000032</td>\n",
       "      <td>F</td>\n",
       "      <td>52.0</td>\n",
       "      <td>0</td>\n",
       "      <td>0</td>\n",
       "      <td>50-55</td>\n",
       "      <td>50-60</td>\n",
       "      <td>...</td>\n",
       "      <td>0.0</td>\n",
       "      <td>0.0</td>\n",
       "      <td>0.0</td>\n",
       "      <td>0.0</td>\n",
       "      <td>0.0</td>\n",
       "      <td>1.0</td>\n",
       "      <td>0.0</td>\n",
       "      <td>0.0</td>\n",
       "      <td>1.0</td>\n",
       "      <td>0.0</td>\n",
       "    </tr>\n",
       "    <tr>\n",
       "      <th>2</th>\n",
       "      <td>2a2277a9-b0ded155-c0de8eb9-c124d10e-82c5caab</td>\n",
       "      <td>PA</td>\n",
       "      <td>Erect</td>\n",
       "      <td>10000032</td>\n",
       "      <td>F</td>\n",
       "      <td>52.0</td>\n",
       "      <td>0</td>\n",
       "      <td>0</td>\n",
       "      <td>50-55</td>\n",
       "      <td>50-60</td>\n",
       "      <td>...</td>\n",
       "      <td>0.0</td>\n",
       "      <td>0.0</td>\n",
       "      <td>0.0</td>\n",
       "      <td>0.0</td>\n",
       "      <td>1.0</td>\n",
       "      <td>0.0</td>\n",
       "      <td>0.0</td>\n",
       "      <td>0.0</td>\n",
       "      <td>1.0</td>\n",
       "      <td>0.0</td>\n",
       "    </tr>\n",
       "    <tr>\n",
       "      <th>3</th>\n",
       "      <td>e084de3b-be89b11e-20fe3f9f-9c8d8dfe-4cfd202c</td>\n",
       "      <td>LATERAL</td>\n",
       "      <td>Erect</td>\n",
       "      <td>10000032</td>\n",
       "      <td>F</td>\n",
       "      <td>52.0</td>\n",
       "      <td>0</td>\n",
       "      <td>0</td>\n",
       "      <td>50-55</td>\n",
       "      <td>50-60</td>\n",
       "      <td>...</td>\n",
       "      <td>0.0</td>\n",
       "      <td>0.0</td>\n",
       "      <td>0.0</td>\n",
       "      <td>0.0</td>\n",
       "      <td>0.0</td>\n",
       "      <td>1.0</td>\n",
       "      <td>0.0</td>\n",
       "      <td>0.0</td>\n",
       "      <td>1.0</td>\n",
       "      <td>0.0</td>\n",
       "    </tr>\n",
       "    <tr>\n",
       "      <th>4</th>\n",
       "      <td>68b5c4b1-227d0485-9cc38c3f-7b84ab51-4b472714</td>\n",
       "      <td>AP</td>\n",
       "      <td>Erect</td>\n",
       "      <td>10000032</td>\n",
       "      <td>F</td>\n",
       "      <td>52.0</td>\n",
       "      <td>0</td>\n",
       "      <td>1</td>\n",
       "      <td>50-55</td>\n",
       "      <td>50-60</td>\n",
       "      <td>...</td>\n",
       "      <td>0.0</td>\n",
       "      <td>0.0</td>\n",
       "      <td>0.0</td>\n",
       "      <td>0.0</td>\n",
       "      <td>0.0</td>\n",
       "      <td>0.0</td>\n",
       "      <td>1.0</td>\n",
       "      <td>0.0</td>\n",
       "      <td>1.0</td>\n",
       "      <td>0.0</td>\n",
       "    </tr>\n",
       "    <tr>\n",
       "      <th>...</th>\n",
       "      <td>...</td>\n",
       "      <td>...</td>\n",
       "      <td>...</td>\n",
       "      <td>...</td>\n",
       "      <td>...</td>\n",
       "      <td>...</td>\n",
       "      <td>...</td>\n",
       "      <td>...</td>\n",
       "      <td>...</td>\n",
       "      <td>...</td>\n",
       "      <td>...</td>\n",
       "      <td>...</td>\n",
       "      <td>...</td>\n",
       "      <td>...</td>\n",
       "      <td>...</td>\n",
       "      <td>...</td>\n",
       "      <td>...</td>\n",
       "      <td>...</td>\n",
       "      <td>...</td>\n",
       "      <td>...</td>\n",
       "      <td>...</td>\n",
       "    </tr>\n",
       "    <tr>\n",
       "      <th>377105</th>\n",
       "      <td>428e2c18-5721d8f3-35a05001-36f3d080-9053b83c</td>\n",
       "      <td>PA</td>\n",
       "      <td>Erect</td>\n",
       "      <td>19999733</td>\n",
       "      <td>F</td>\n",
       "      <td>19.0</td>\n",
       "      <td>0</td>\n",
       "      <td>0</td>\n",
       "      <td>&lt;20</td>\n",
       "      <td>&lt;20</td>\n",
       "      <td>...</td>\n",
       "      <td>0.0</td>\n",
       "      <td>0.0</td>\n",
       "      <td>0.0</td>\n",
       "      <td>0.0</td>\n",
       "      <td>1.0</td>\n",
       "      <td>0.0</td>\n",
       "      <td>0.0</td>\n",
       "      <td>0.0</td>\n",
       "      <td>1.0</td>\n",
       "      <td>0.0</td>\n",
       "    </tr>\n",
       "    <tr>\n",
       "      <th>377106</th>\n",
       "      <td>58c403aa-35ff8bd9-73e39f54-8dc9cc5d-e0ec3fa9</td>\n",
       "      <td>LATERAL</td>\n",
       "      <td>Erect</td>\n",
       "      <td>19999733</td>\n",
       "      <td>F</td>\n",
       "      <td>19.0</td>\n",
       "      <td>0</td>\n",
       "      <td>0</td>\n",
       "      <td>&lt;20</td>\n",
       "      <td>&lt;20</td>\n",
       "      <td>...</td>\n",
       "      <td>0.0</td>\n",
       "      <td>0.0</td>\n",
       "      <td>0.0</td>\n",
       "      <td>0.0</td>\n",
       "      <td>0.0</td>\n",
       "      <td>1.0</td>\n",
       "      <td>0.0</td>\n",
       "      <td>0.0</td>\n",
       "      <td>1.0</td>\n",
       "      <td>0.0</td>\n",
       "    </tr>\n",
       "    <tr>\n",
       "      <th>377107</th>\n",
       "      <td>58766883-376a15ce-3b323a28-6af950a0-16b793bd</td>\n",
       "      <td>AP</td>\n",
       "      <td>Erect</td>\n",
       "      <td>19999987</td>\n",
       "      <td>F</td>\n",
       "      <td>57.0</td>\n",
       "      <td>0</td>\n",
       "      <td>1</td>\n",
       "      <td>55-60</td>\n",
       "      <td>50-60</td>\n",
       "      <td>...</td>\n",
       "      <td>0.0</td>\n",
       "      <td>0.0</td>\n",
       "      <td>0.0</td>\n",
       "      <td>0.0</td>\n",
       "      <td>0.0</td>\n",
       "      <td>0.0</td>\n",
       "      <td>1.0</td>\n",
       "      <td>0.0</td>\n",
       "      <td>1.0</td>\n",
       "      <td>0.0</td>\n",
       "    </tr>\n",
       "    <tr>\n",
       "      <th>377108</th>\n",
       "      <td>7ba273af-3d290f8d-e28d0ab4-484b7a86-7fc12b08</td>\n",
       "      <td>AP</td>\n",
       "      <td>Erect</td>\n",
       "      <td>19999987</td>\n",
       "      <td>F</td>\n",
       "      <td>57.0</td>\n",
       "      <td>0</td>\n",
       "      <td>1</td>\n",
       "      <td>55-60</td>\n",
       "      <td>50-60</td>\n",
       "      <td>...</td>\n",
       "      <td>0.0</td>\n",
       "      <td>0.0</td>\n",
       "      <td>0.0</td>\n",
       "      <td>0.0</td>\n",
       "      <td>0.0</td>\n",
       "      <td>0.0</td>\n",
       "      <td>1.0</td>\n",
       "      <td>0.0</td>\n",
       "      <td>1.0</td>\n",
       "      <td>0.0</td>\n",
       "    </tr>\n",
       "    <tr>\n",
       "      <th>377109</th>\n",
       "      <td>1a1fe7e3-cbac5d93-b339aeda-86bb86b5-4f31e82e</td>\n",
       "      <td>AP</td>\n",
       "      <td>Recumbent</td>\n",
       "      <td>19999987</td>\n",
       "      <td>F</td>\n",
       "      <td>57.0</td>\n",
       "      <td>0</td>\n",
       "      <td>1</td>\n",
       "      <td>55-60</td>\n",
       "      <td>50-60</td>\n",
       "      <td>...</td>\n",
       "      <td>0.0</td>\n",
       "      <td>0.0</td>\n",
       "      <td>0.0</td>\n",
       "      <td>0.0</td>\n",
       "      <td>0.0</td>\n",
       "      <td>0.0</td>\n",
       "      <td>1.0</td>\n",
       "      <td>0.0</td>\n",
       "      <td>0.0</td>\n",
       "      <td>1.0</td>\n",
       "    </tr>\n",
       "  </tbody>\n",
       "</table>\n",
       "<p>376201 rows × 45 columns</p>\n",
       "</div>"
      ],
      "text/plain": [
       "                                            dicom_id cxr_view cxr_orientation  \\\n",
       "0       02aa804e-bde0afdd-112c0b34-7bc16630-4e384014       PA           Erect   \n",
       "1       174413ec-4ec4c1f7-34ea26b7-c5f994f8-79ef1962  LATERAL           Erect   \n",
       "2       2a2277a9-b0ded155-c0de8eb9-c124d10e-82c5caab       PA           Erect   \n",
       "3       e084de3b-be89b11e-20fe3f9f-9c8d8dfe-4cfd202c  LATERAL           Erect   \n",
       "4       68b5c4b1-227d0485-9cc38c3f-7b84ab51-4b472714       AP           Erect   \n",
       "...                                              ...      ...             ...   \n",
       "377105  428e2c18-5721d8f3-35a05001-36f3d080-9053b83c       PA           Erect   \n",
       "377106  58c403aa-35ff8bd9-73e39f54-8dc9cc5d-e0ec3fa9  LATERAL           Erect   \n",
       "377107  58766883-376a15ce-3b323a28-6af950a0-16b793bd       AP           Erect   \n",
       "377108  7ba273af-3d290f8d-e28d0ab4-484b7a86-7fc12b08       AP           Erect   \n",
       "377109  1a1fe7e3-cbac5d93-b339aeda-86bb86b5-4f31e82e       AP       Recumbent   \n",
       "\n",
       "        subject_id gender   age  stay_expire  icu_stay  ageR5 ageR10  ...  \\\n",
       "0         10000032      F  52.0            0         0  50-55  50-60  ...   \n",
       "1         10000032      F  52.0            0         0  50-55  50-60  ...   \n",
       "2         10000032      F  52.0            0         0  50-55  50-60  ...   \n",
       "3         10000032      F  52.0            0         0  50-55  50-60  ...   \n",
       "4         10000032      F  52.0            0         1  50-55  50-60  ...   \n",
       "...            ...    ...   ...          ...       ...    ...    ...  ...   \n",
       "377105    19999733      F  19.0            0         0    <20    <20  ...   \n",
       "377106    19999733      F  19.0            0         0    <20    <20  ...   \n",
       "377107    19999987      F  57.0            0         1  55-60  50-60  ...   \n",
       "377108    19999987      F  57.0            0         1  55-60  50-60  ...   \n",
       "377109    19999987      F  57.0            0         1  55-60  50-60  ...   \n",
       "\n",
       "       60-70  70-80  80-90  90+*   PA  LATERAL   AP   LL  Erect  Recumbent  \n",
       "0        0.0    0.0    0.0   0.0  1.0      0.0  0.0  0.0    1.0        0.0  \n",
       "1        0.0    0.0    0.0   0.0  0.0      1.0  0.0  0.0    1.0        0.0  \n",
       "2        0.0    0.0    0.0   0.0  1.0      0.0  0.0  0.0    1.0        0.0  \n",
       "3        0.0    0.0    0.0   0.0  0.0      1.0  0.0  0.0    1.0        0.0  \n",
       "4        0.0    0.0    0.0   0.0  0.0      0.0  1.0  0.0    1.0        0.0  \n",
       "...      ...    ...    ...   ...  ...      ...  ...  ...    ...        ...  \n",
       "377105   0.0    0.0    0.0   0.0  1.0      0.0  0.0  0.0    1.0        0.0  \n",
       "377106   0.0    0.0    0.0   0.0  0.0      1.0  0.0  0.0    1.0        0.0  \n",
       "377107   0.0    0.0    0.0   0.0  0.0      0.0  1.0  0.0    1.0        0.0  \n",
       "377108   0.0    0.0    0.0   0.0  0.0      0.0  1.0  0.0    1.0        0.0  \n",
       "377109   0.0    0.0    0.0   0.0  0.0      0.0  1.0  0.0    0.0        1.0  \n",
       "\n",
       "[376201 rows x 45 columns]"
      ]
     },
     "execution_count": 37,
     "metadata": {},
     "output_type": "execute_result"
    }
   ],
   "source": [
    "meta"
   ]
  },
  {
   "cell_type": "code",
   "execution_count": 43,
   "id": "e5b32f2e",
   "metadata": {},
   "outputs": [
    {
     "name": "stderr",
     "output_type": "stream",
     "text": [
      "/tmpdata/ipykernel_183888/3855941794.py:1: SettingWithCopyWarning: \n",
      "A value is trying to be set on a copy of a slice from a DataFrame.\n",
      "Try using .loc[row_indexer,col_indexer] = value instead\n",
      "\n",
      "See the caveats in the documentation: https://pandas.pydata.org/pandas-docs/stable/user_guide/indexing.html#returning-a-view-versus-a-copy\n",
      "  meta['alive'] = meta.stay_expire.apply(lambda x: 1. if x == 0 else 0.)\n",
      "/tmpdata/ipykernel_183888/3855941794.py:2: SettingWithCopyWarning: \n",
      "A value is trying to be set on a copy of a slice from a DataFrame.\n",
      "Try using .loc[row_indexer,col_indexer] = value instead\n",
      "\n",
      "See the caveats in the documentation: https://pandas.pydata.org/pandas-docs/stable/user_guide/indexing.html#returning-a-view-versus-a-copy\n",
      "  meta['died'] = meta.stay_expire.apply(lambda x: 1. if x == 1 else 0.)\n"
     ]
    }
   ],
   "source": [
    "meta['alive'] = meta.stay_expire.apply(lambda x: 1. if x == 0 else 0.)\n",
    "meta['died'] = meta.stay_expire.apply(lambda x: 1. if x == 1 else 0.)\n"
   ]
  },
  {
   "cell_type": "code",
   "execution_count": 44,
   "id": "9420e3d1",
   "metadata": {},
   "outputs": [
    {
     "name": "stderr",
     "output_type": "stream",
     "text": [
      "/tmpdata/ipykernel_183888/595143909.py:1: SettingWithCopyWarning: \n",
      "A value is trying to be set on a copy of a slice from a DataFrame.\n",
      "Try using .loc[row_indexer,col_indexer] = value instead\n",
      "\n",
      "See the caveats in the documentation: https://pandas.pydata.org/pandas-docs/stable/user_guide/indexing.html#returning-a-view-versus-a-copy\n",
      "  meta['icu'] = meta.icu_stay.apply(lambda x: 1. if x == 1 else 0.)\n",
      "/tmpdata/ipykernel_183888/595143909.py:2: SettingWithCopyWarning: \n",
      "A value is trying to be set on a copy of a slice from a DataFrame.\n",
      "Try using .loc[row_indexer,col_indexer] = value instead\n",
      "\n",
      "See the caveats in the documentation: https://pandas.pydata.org/pandas-docs/stable/user_guide/indexing.html#returning-a-view-versus-a-copy\n",
      "  meta['not_icu'] = meta.icu_stay.apply(lambda x: 1. if x == 0 else 0.)\n"
     ]
    }
   ],
   "source": [
    "meta['icu'] = meta.icu_stay.apply(lambda x: 1. if x == 1 else 0.)\n",
    "meta['not_icu'] = meta.icu_stay.apply(lambda x: 1. if x == 0 else 0.)"
   ]
  },
  {
   "cell_type": "code",
   "execution_count": 45,
   "id": "394b7610",
   "metadata": {},
   "outputs": [
    {
     "data": {
      "text/html": [
       "<div>\n",
       "<style scoped>\n",
       "    .dataframe tbody tr th:only-of-type {\n",
       "        vertical-align: middle;\n",
       "    }\n",
       "\n",
       "    .dataframe tbody tr th {\n",
       "        vertical-align: top;\n",
       "    }\n",
       "\n",
       "    .dataframe thead th {\n",
       "        text-align: right;\n",
       "    }\n",
       "</style>\n",
       "<table border=\"1\" class=\"dataframe\">\n",
       "  <thead>\n",
       "    <tr style=\"text-align: right;\">\n",
       "      <th></th>\n",
       "      <th>dicom_id</th>\n",
       "      <th>cxr_view</th>\n",
       "      <th>cxr_orientation</th>\n",
       "      <th>subject_id</th>\n",
       "      <th>gender</th>\n",
       "      <th>age</th>\n",
       "      <th>stay_expire</th>\n",
       "      <th>icu_stay</th>\n",
       "      <th>ageR5</th>\n",
       "      <th>ageR10</th>\n",
       "      <th>...</th>\n",
       "      <th>PA</th>\n",
       "      <th>LATERAL</th>\n",
       "      <th>AP</th>\n",
       "      <th>LL</th>\n",
       "      <th>Erect</th>\n",
       "      <th>Recumbent</th>\n",
       "      <th>alive</th>\n",
       "      <th>died</th>\n",
       "      <th>icu</th>\n",
       "      <th>not_icu</th>\n",
       "    </tr>\n",
       "  </thead>\n",
       "  <tbody>\n",
       "    <tr>\n",
       "      <th>0</th>\n",
       "      <td>02aa804e-bde0afdd-112c0b34-7bc16630-4e384014</td>\n",
       "      <td>PA</td>\n",
       "      <td>Erect</td>\n",
       "      <td>10000032</td>\n",
       "      <td>F</td>\n",
       "      <td>52.0</td>\n",
       "      <td>0</td>\n",
       "      <td>0</td>\n",
       "      <td>50-55</td>\n",
       "      <td>50-60</td>\n",
       "      <td>...</td>\n",
       "      <td>1.0</td>\n",
       "      <td>0.0</td>\n",
       "      <td>0.0</td>\n",
       "      <td>0.0</td>\n",
       "      <td>1.0</td>\n",
       "      <td>0.0</td>\n",
       "      <td>1.0</td>\n",
       "      <td>0.0</td>\n",
       "      <td>0.0</td>\n",
       "      <td>1.0</td>\n",
       "    </tr>\n",
       "  </tbody>\n",
       "</table>\n",
       "<p>1 rows × 49 columns</p>\n",
       "</div>"
      ],
      "text/plain": [
       "                                       dicom_id cxr_view cxr_orientation  \\\n",
       "0  02aa804e-bde0afdd-112c0b34-7bc16630-4e384014       PA           Erect   \n",
       "\n",
       "   subject_id gender   age  stay_expire  icu_stay  ageR5 ageR10  ...   PA  \\\n",
       "0    10000032      F  52.0            0         0  50-55  50-60  ...  1.0   \n",
       "\n",
       "   LATERAL   AP   LL  Erect  Recumbent  alive  died  icu  not_icu  \n",
       "0      0.0  0.0  0.0    1.0        0.0    1.0   0.0  0.0      1.0  \n",
       "\n",
       "[1 rows x 49 columns]"
      ]
     },
     "execution_count": 45,
     "metadata": {},
     "output_type": "execute_result"
    }
   ],
   "source": [
    "meta.head(1)"
   ]
  },
  {
   "cell_type": "code",
   "execution_count": 46,
   "id": "bde42447",
   "metadata": {
    "scrolled": true
   },
   "outputs": [
    {
     "data": {
      "text/plain": [
       "['path',\n",
       " 'male',\n",
       " 'female',\n",
       " 'age_norm',\n",
       " '<20',\n",
       " '20-25',\n",
       " '25-30',\n",
       " '30-35',\n",
       " '35-40',\n",
       " '40-45',\n",
       " '45-50',\n",
       " '50-55',\n",
       " '55-60',\n",
       " '60-65',\n",
       " '65-70',\n",
       " '70-75',\n",
       " '75-80',\n",
       " '80-85',\n",
       " '85-90',\n",
       " '90+',\n",
       " '<20*',\n",
       " '20-30',\n",
       " '30-40',\n",
       " '40-50',\n",
       " '50-60',\n",
       " '60-70',\n",
       " '70-80',\n",
       " '80-90',\n",
       " '90+*',\n",
       " 'PA',\n",
       " 'LATERAL',\n",
       " 'AP',\n",
       " 'LL',\n",
       " 'Erect',\n",
       " 'Recumbent',\n",
       " 'alive',\n",
       " 'died',\n",
       " 'icu',\n",
       " 'not_icu']"
      ]
     },
     "execution_count": 46,
     "metadata": {},
     "output_type": "execute_result"
    }
   ],
   "source": [
    "['path', 'male','female', 'age_norm', \n",
    " \n",
    "'<20', '20-25', '25-30', '30-35', '35-40', '40-45', '45-50', '50-55', '55-60', '60-65', '65-70', '70-75', '75-80','80-85', '85-90', '90+', \n",
    " \n",
    "'<20*', '20-30', '30-40', '40-50', '50-60','60-70', '70-80', '80-90', '90+*', \n",
    " \n",
    " 'PA', 'LATERAL', 'AP', 'LL', 'Erect','Recumbent', \n",
    " \n",
    " 'alive', 'died', 'icu', 'not_icu']"
   ]
  },
  {
   "cell_type": "code",
   "execution_count": 47,
   "id": "8eb53a02",
   "metadata": {},
   "outputs": [
    {
     "data": {
      "text/plain": [
       "['.ipynb_checkpoints',\n",
       " 'meta-mortality-only.csv',\n",
       " 'meta-gender-only.csv',\n",
       " 'meta-age-norm-only.csv',\n",
       " 'meta-age10-only.csv',\n",
       " 'meta-orientation-only.csv',\n",
       " 'meta-view-only.csv',\n",
       " 'meta-icu-only.csv',\n",
       " 'meta-age5-only.csv']"
      ]
     },
     "execution_count": 47,
     "metadata": {},
     "output_type": "execute_result"
    }
   ],
   "source": [
    "os.listdir('../data/single-variable/')"
   ]
  },
  {
   "cell_type": "code",
   "execution_count": 48,
   "id": "9b87c785",
   "metadata": {},
   "outputs": [],
   "source": [
    "meta[['path','male','female']].to_csv('../data/single-variable/meta-gender-only.csv',index=False)"
   ]
  },
  {
   "cell_type": "code",
   "execution_count": 49,
   "id": "32d099b3",
   "metadata": {},
   "outputs": [
    {
     "data": {
      "text/plain": [
       "(376201, 3)"
      ]
     },
     "execution_count": 49,
     "metadata": {},
     "output_type": "execute_result"
    }
   ],
   "source": [
    "pd.read_csv('../data/single-variable/meta-gender-only.csv').shape"
   ]
  },
  {
   "cell_type": "code",
   "execution_count": 50,
   "id": "6e2fe5d8",
   "metadata": {},
   "outputs": [],
   "source": [
    "meta[['path','age_norm']].to_csv('../data/single-variable/meta-age-norm-only.csv',index=False)"
   ]
  },
  {
   "cell_type": "code",
   "execution_count": 51,
   "id": "8ac97ed4",
   "metadata": {},
   "outputs": [
    {
     "data": {
      "text/plain": [
       "(376201, 2)"
      ]
     },
     "execution_count": 51,
     "metadata": {},
     "output_type": "execute_result"
    }
   ],
   "source": [
    "pd.read_csv('../data/single-variable/meta-age-norm-only.csv').shape"
   ]
  },
  {
   "cell_type": "code",
   "execution_count": 52,
   "id": "4c07255d",
   "metadata": {},
   "outputs": [],
   "source": [
    "meta[['path','<20', '20-25', '25-30', '30-35', '35-40','40-45', '45-50', '50-55', '55-60', '60-65', '65-70',\\\n",
    "      '70-75', '75-80','80-85', '85-90', '90+']].to_csv('../data/single-variable/meta-age5-only.csv',index=False)"
   ]
  },
  {
   "cell_type": "code",
   "execution_count": 53,
   "id": "951ae9d8",
   "metadata": {},
   "outputs": [
    {
     "data": {
      "text/plain": [
       "(376201, 17)"
      ]
     },
     "execution_count": 53,
     "metadata": {},
     "output_type": "execute_result"
    }
   ],
   "source": [
    "pd.read_csv('../data/single-variable/meta-age5-only.csv').shape"
   ]
  },
  {
   "cell_type": "code",
   "execution_count": 54,
   "id": "a649dbae",
   "metadata": {},
   "outputs": [],
   "source": [
    "meta[['path','<20*', '20-30', '30-40', '40-50', '50-60','60-70', '70-80', '80-90', '90+*']].to_csv('../data/single-variable/meta-age10-only.csv',index=False)"
   ]
  },
  {
   "cell_type": "code",
   "execution_count": 55,
   "id": "6e8c1568",
   "metadata": {},
   "outputs": [
    {
     "data": {
      "text/plain": [
       "(376201, 10)"
      ]
     },
     "execution_count": 55,
     "metadata": {},
     "output_type": "execute_result"
    }
   ],
   "source": [
    "pd.read_csv('../data/single-variable/meta-age10-only.csv').shape"
   ]
  },
  {
   "cell_type": "code",
   "execution_count": 56,
   "id": "d14a7450",
   "metadata": {},
   "outputs": [],
   "source": [
    "meta[['path','PA', 'LATERAL', 'AP', 'LL']].to_csv('../data/single-variable/meta-view-only.csv',index=False)"
   ]
  },
  {
   "cell_type": "code",
   "execution_count": 58,
   "id": "586bd0dd",
   "metadata": {},
   "outputs": [
    {
     "data": {
      "text/plain": [
       "(376201, 5)"
      ]
     },
     "execution_count": 58,
     "metadata": {},
     "output_type": "execute_result"
    }
   ],
   "source": [
    "pd.read_csv('../data/single-variable/meta-view-only.csv').shape"
   ]
  },
  {
   "cell_type": "code",
   "execution_count": 59,
   "id": "aca2bc63",
   "metadata": {},
   "outputs": [],
   "source": [
    "meta[['path', 'Erect','Recumbent']].to_csv('../data/single-variable/meta-orientation-only.csv',index=False)"
   ]
  },
  {
   "cell_type": "code",
   "execution_count": 61,
   "id": "27a8512a",
   "metadata": {},
   "outputs": [
    {
     "data": {
      "text/plain": [
       "(376201, 3)"
      ]
     },
     "execution_count": 61,
     "metadata": {},
     "output_type": "execute_result"
    }
   ],
   "source": [
    "pd.read_csv('../data/single-variable/meta-orientation-only.csv').shape"
   ]
  },
  {
   "cell_type": "code",
   "execution_count": 64,
   "id": "6cd19e71",
   "metadata": {},
   "outputs": [],
   "source": [
    "meta[['path', 'alive', 'died',]].to_csv('../data/single-variable/meta-mortality-only.csv',index=False)"
   ]
  },
  {
   "cell_type": "code",
   "execution_count": 65,
   "id": "77c90066",
   "metadata": {},
   "outputs": [
    {
     "data": {
      "text/plain": [
       "(376201, 3)"
      ]
     },
     "execution_count": 65,
     "metadata": {},
     "output_type": "execute_result"
    }
   ],
   "source": [
    "pd.read_csv('../data/single-variable/meta-mortality-only.csv').shape"
   ]
  },
  {
   "cell_type": "code",
   "execution_count": 66,
   "id": "35e06a38",
   "metadata": {},
   "outputs": [],
   "source": [
    "meta[['path', 'icu', 'not_icu']].to_csv('../data/single-variable/meta-icu-only.csv',index=False)"
   ]
  },
  {
   "cell_type": "code",
   "execution_count": 67,
   "id": "a57d9058",
   "metadata": {},
   "outputs": [
    {
     "data": {
      "text/plain": [
       "(376201, 3)"
      ]
     },
     "execution_count": 67,
     "metadata": {},
     "output_type": "execute_result"
    }
   ],
   "source": [
    "pd.read_csv('../data/single-variable/meta-icu-only.csv').shape"
   ]
  },
  {
   "cell_type": "code",
   "execution_count": 68,
   "id": "866f6bfd",
   "metadata": {},
   "outputs": [],
   "source": [
    "meta[['path', 'male','female', 'age_norm' ]].to_csv('../data/single-group/socio-norm.csv',index=False)"
   ]
  },
  {
   "cell_type": "code",
   "execution_count": 69,
   "id": "2d04f0a4",
   "metadata": {},
   "outputs": [
    {
     "data": {
      "text/plain": [
       "(376201, 4)"
      ]
     },
     "execution_count": 69,
     "metadata": {},
     "output_type": "execute_result"
    }
   ],
   "source": [
    "pd.read_csv('../data/single-group/socio-norm.csv').shape"
   ]
  },
  {
   "cell_type": "code",
   "execution_count": 70,
   "id": "9a249c5d",
   "metadata": {},
   "outputs": [],
   "source": [
    "meta[['path', 'male','female', '<20', '20-25', '25-30', '30-35', '35-40',\n",
    "       '40-45', '45-50', '50-55', '55-60', '60-65', '65-70', '70-75', '75-80',\n",
    "        '80-85', '85-90', '90+', ]].to_csv('../data/single-group/socio-age5.csv',index=False)"
   ]
  },
  {
   "cell_type": "code",
   "execution_count": 71,
   "id": "22f908c7",
   "metadata": {},
   "outputs": [
    {
     "data": {
      "text/plain": [
       "(376201, 19)"
      ]
     },
     "execution_count": 71,
     "metadata": {},
     "output_type": "execute_result"
    }
   ],
   "source": [
    "pd.read_csv('../data/single-group/socio-age5.csv').shape"
   ]
  },
  {
   "cell_type": "code",
   "execution_count": 72,
   "id": "fbd2497e",
   "metadata": {},
   "outputs": [],
   "source": [
    "meta[['path','male','female', '<20*', '20-30', '30-40', '40-50', '50-60',\n",
    "        '60-70', '70-80', '80-90', '90+*'  ]].to_csv('../data/single-group/socio-age10.csv',index=False)"
   ]
  },
  {
   "cell_type": "code",
   "execution_count": 74,
   "id": "2980fde5",
   "metadata": {},
   "outputs": [
    {
     "data": {
      "text/plain": [
       "(376201, 12)"
      ]
     },
     "execution_count": 74,
     "metadata": {},
     "output_type": "execute_result"
    }
   ],
   "source": [
    "pd.read_csv('../data/single-group/socio-age10.csv').shape"
   ]
  },
  {
   "cell_type": "code",
   "execution_count": 75,
   "id": "82b37a92",
   "metadata": {},
   "outputs": [],
   "source": [
    "meta[['path', 'PA', 'LATERAL', 'AP', 'LL', 'Erect','Recumbent' ]].to_csv('../data/single-group/image_meta.csv',index=False)"
   ]
  },
  {
   "cell_type": "code",
   "execution_count": 76,
   "id": "c11d3c49",
   "metadata": {},
   "outputs": [
    {
     "data": {
      "text/plain": [
       "(376201, 7)"
      ]
     },
     "execution_count": 76,
     "metadata": {},
     "output_type": "execute_result"
    }
   ],
   "source": [
    "pd.read_csv('../data/single-group/image_meta.csv').shape"
   ]
  },
  {
   "cell_type": "code",
   "execution_count": 77,
   "id": "97ed89f3",
   "metadata": {},
   "outputs": [],
   "source": [
    "meta[['path', 'alive', 'died', 'icu', 'not_icu' ]].to_csv('../data/single-group/clinical.csv',index=False)"
   ]
  },
  {
   "cell_type": "code",
   "execution_count": 79,
   "id": "41b151c6",
   "metadata": {},
   "outputs": [
    {
     "data": {
      "text/plain": [
       "(376201, 5)"
      ]
     },
     "execution_count": 79,
     "metadata": {},
     "output_type": "execute_result"
    }
   ],
   "source": [
    "pd.read_csv('../data/single-group/clinical.csv').shape"
   ]
  },
  {
   "cell_type": "code",
   "execution_count": 80,
   "id": "feacf59b",
   "metadata": {},
   "outputs": [],
   "source": [
    "meta[['path', 'male','female', 'age_norm', 'PA', 'LATERAL', 'AP', 'LL', 'Erect','Recumbent']].to_csv('../data/combinations/socio-age-norm-image-meta.csv',index=False)"
   ]
  },
  {
   "cell_type": "code",
   "execution_count": 81,
   "id": "29447933",
   "metadata": {},
   "outputs": [
    {
     "data": {
      "text/plain": [
       "(376201, 10)"
      ]
     },
     "execution_count": 81,
     "metadata": {},
     "output_type": "execute_result"
    }
   ],
   "source": [
    "pd.read_csv('../data/combinations/socio-age-norm-image-meta.csv').shape"
   ]
  },
  {
   "cell_type": "code",
   "execution_count": 82,
   "id": "36bc8c72",
   "metadata": {},
   "outputs": [],
   "source": [
    "meta[['path', 'male','female', 'age_norm', 'alive', 'died', 'icu', 'not_icu']].to_csv('../data/combinations/socio-age-norm-clinical.csv',index=False)"
   ]
  },
  {
   "cell_type": "code",
   "execution_count": 83,
   "id": "ffea5198",
   "metadata": {},
   "outputs": [
    {
     "data": {
      "text/plain": [
       "(376201, 8)"
      ]
     },
     "execution_count": 83,
     "metadata": {},
     "output_type": "execute_result"
    }
   ],
   "source": [
    "pd.read_csv('../data/combinations/socio-age-norm-clinical.csv').shape"
   ]
  },
  {
   "cell_type": "code",
   "execution_count": 84,
   "id": "e517e449",
   "metadata": {},
   "outputs": [],
   "source": [
    "meta[['path', 'male','female', '<20', '20-25', '25-30', '30-35', '35-40',\n",
    "       '40-45', '45-50', '50-55', '55-60', '60-65', '65-70', '70-75', '75-80',\n",
    "        '80-85', '85-90', '90+','PA', 'LATERAL', 'AP', 'LL', 'Erect','Recumbent']].to_csv('../data/combinations/socio-age-5-image-meta.csv',index=False)"
   ]
  },
  {
   "cell_type": "code",
   "execution_count": 85,
   "id": "7ec38959",
   "metadata": {},
   "outputs": [
    {
     "data": {
      "text/plain": [
       "(376201, 25)"
      ]
     },
     "execution_count": 85,
     "metadata": {},
     "output_type": "execute_result"
    }
   ],
   "source": [
    "pd.read_csv('../data/combinations/socio-age-5-image-meta.csv').shape"
   ]
  },
  {
   "cell_type": "code",
   "execution_count": 86,
   "id": "fd1c65ba",
   "metadata": {},
   "outputs": [],
   "source": [
    "meta[['path', 'male','female', '<20', '20-25', '25-30', '30-35', '35-40',\n",
    "       '40-45', '45-50', '50-55', '55-60', '60-65', '65-70', '70-75', '75-80',\n",
    "        '80-85', '85-90', '90+','alive', 'died', 'icu', 'not_icu']].to_csv('../data/combinations/socio-age-5-clinical.csv',index=False)"
   ]
  },
  {
   "cell_type": "code",
   "execution_count": 90,
   "id": "9eeb4232",
   "metadata": {},
   "outputs": [
    {
     "data": {
      "text/plain": [
       "(376201, 23)"
      ]
     },
     "execution_count": 90,
     "metadata": {},
     "output_type": "execute_result"
    }
   ],
   "source": [
    "pd.read_csv('../data/combinations/socio-age-5-clinical.csv').shape"
   ]
  },
  {
   "cell_type": "code",
   "execution_count": 91,
   "id": "32583273",
   "metadata": {},
   "outputs": [],
   "source": [
    "meta[['path', 'male','female', '<20*', '20-30', '30-40', '40-50', '50-60',\n",
    "        '60-70', '70-80', '80-90', '90+*','PA', 'LATERAL', 'AP', 'LL', 'Erect','Recumbent']].to_csv('../data/combinations/socio-age-10-image-meta.csv',index=False)"
   ]
  },
  {
   "cell_type": "code",
   "execution_count": 93,
   "id": "38dad5c7",
   "metadata": {},
   "outputs": [
    {
     "data": {
      "text/plain": [
       "(376201, 18)"
      ]
     },
     "execution_count": 93,
     "metadata": {},
     "output_type": "execute_result"
    }
   ],
   "source": [
    "pd.read_csv('../data/combinations/socio-age-10-image-meta.csv').shape"
   ]
  },
  {
   "cell_type": "code",
   "execution_count": 84,
   "id": "ca378db0",
   "metadata": {},
   "outputs": [],
   "source": [
    "meta[['path', 'male','female', '<20*', '20-30', '30-40', '40-50', '50-60',\n",
    "        '60-70', '70-80', '80-90', '90+*','alive', 'died', 'icu', 'not_icu']].to_csv('../data/combinations/socio-age-10-clinical.csv',index=False)"
   ]
  },
  {
   "cell_type": "code",
   "execution_count": 94,
   "id": "9c3ad4e6",
   "metadata": {},
   "outputs": [
    {
     "data": {
      "text/plain": [
       "(376201, 16)"
      ]
     },
     "execution_count": 94,
     "metadata": {},
     "output_type": "execute_result"
    }
   ],
   "source": [
    "pd.read_csv('../data/combinations/socio-age-10-clinical.csv').shape"
   ]
  },
  {
   "cell_type": "code",
   "execution_count": 95,
   "id": "8cc6dc87",
   "metadata": {},
   "outputs": [],
   "source": [
    "meta[['path', 'PA', 'LATERAL', 'AP', 'LL', 'Erect','Recumbent','alive', 'died', 'icu', 'not_icu' ]].to_csv('../data/combinations/image-meta-clinical.csv',index=False)"
   ]
  },
  {
   "cell_type": "code",
   "execution_count": 96,
   "id": "81365b00",
   "metadata": {},
   "outputs": [
    {
     "data": {
      "text/plain": [
       "(376201, 11)"
      ]
     },
     "execution_count": 96,
     "metadata": {},
     "output_type": "execute_result"
    }
   ],
   "source": [
    "pd.read_csv('../data/combinations/image-meta-clinical.csv').shape"
   ]
  },
  {
   "cell_type": "code",
   "execution_count": 97,
   "id": "a8df629d",
   "metadata": {},
   "outputs": [],
   "source": [
    "meta[['path', 'male','female', 'age_norm','PA', 'LATERAL', 'AP', 'LL', 'Erect','Recumbent', 'alive', 'died', 'icu', 'not_icu']].to_csv('../data/all/all-age-norm.csv',index=False)"
   ]
  },
  {
   "cell_type": "code",
   "execution_count": 98,
   "id": "4b2d7a1c",
   "metadata": {},
   "outputs": [
    {
     "data": {
      "text/plain": [
       "(376201, 14)"
      ]
     },
     "execution_count": 98,
     "metadata": {},
     "output_type": "execute_result"
    }
   ],
   "source": [
    "pd.read_csv('../data/all/all-age-norm.csv').shape"
   ]
  },
  {
   "cell_type": "code",
   "execution_count": 99,
   "id": "145563a1",
   "metadata": {},
   "outputs": [],
   "source": [
    "meta[['path', 'male','female', '<20', '20-25', '25-30', '30-35', '35-40', '40-45', '45-50', '50-55', '55-60', '60-65', '65-70', '70-75', '75-80','80-85', '85-90', '90+','PA', 'LATERAL', 'AP', 'LL', 'Erect','Recumbent', 'alive', 'died', 'icu', 'not_icu']].to_csv('../data/all/all-age-5.csv',index=False)"
   ]
  },
  {
   "cell_type": "code",
   "execution_count": 100,
   "id": "11f65eb0",
   "metadata": {},
   "outputs": [
    {
     "data": {
      "text/plain": [
       "(376201, 29)"
      ]
     },
     "execution_count": 100,
     "metadata": {},
     "output_type": "execute_result"
    }
   ],
   "source": [
    "pd.read_csv('../data/all/all-age-5.csv').shape"
   ]
  },
  {
   "cell_type": "code",
   "execution_count": 92,
   "id": "eea2d337",
   "metadata": {},
   "outputs": [],
   "source": [
    "meta[['path', 'male','female', '<20*', '20-30', '30-40', '40-50', '50-60','60-70', '70-80', '80-90', '90+*', 'PA', 'LATERAL', 'AP', 'LL', 'Erect','Recumbent', 'alive', 'died', 'icu', 'not_icu']].to_csv('../data/all/all-age-10.csv',index=False)"
   ]
  },
  {
   "cell_type": "code",
   "execution_count": 101,
   "id": "d7352a71",
   "metadata": {},
   "outputs": [
    {
     "data": {
      "text/plain": [
       "(376201, 22)"
      ]
     },
     "execution_count": 101,
     "metadata": {},
     "output_type": "execute_result"
    }
   ],
   "source": [
    "pd.read_csv('../data/all/all-age-10.csv').shape"
   ]
  },
  {
   "cell_type": "code",
   "execution_count": 333,
   "id": "b7af2b97",
   "metadata": {},
   "outputs": [],
   "source": [
    "meta.to_csv('../data/preprocessed.csv',index=False)"
   ]
  }
 ],
 "metadata": {
  "kernelspec": {
   "display_name": "chexmsn-env\n",
   "language": "python",
   "name": "chexmsn-env"
  },
  "language_info": {
   "codemirror_mode": {
    "name": "ipython",
    "version": 3
   },
   "file_extension": ".py",
   "mimetype": "text/x-python",
   "name": "python",
   "nbconvert_exporter": "python",
   "pygments_lexer": "ipython3",
   "version": "3.9.12"
  }
 },
 "nbformat": 4,
 "nbformat_minor": 5
}
