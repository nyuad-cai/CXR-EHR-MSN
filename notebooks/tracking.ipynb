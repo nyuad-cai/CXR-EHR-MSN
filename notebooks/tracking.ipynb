{
 "cells": [
  {
   "cell_type": "code",
   "execution_count": 253,
   "id": "5771cb49",
   "metadata": {},
   "outputs": [],
   "source": [
    "import pandas as pd\n",
    "import os"
   ]
  },
  {
   "cell_type": "markdown",
   "id": "325cef38",
   "metadata": {},
   "source": [
    "# vit-tiny-lr=0.000001"
   ]
  },
  {
   "cell_type": "code",
   "execution_count": 258,
   "id": "33d2e261",
   "metadata": {},
   "outputs": [],
   "source": [
    "ev = pd.read_csv(f'/scratch/sas10092/ChexMSN/notebooks/lightning_logs/version_1/metrics.csv')"
   ]
  },
  {
   "cell_type": "code",
   "execution_count": 259,
   "id": "b9381053",
   "metadata": {},
   "outputs": [
    {
     "data": {
      "text/html": [
       "<div>\n",
       "<style scoped>\n",
       "    .dataframe tbody tr th:only-of-type {\n",
       "        vertical-align: middle;\n",
       "    }\n",
       "\n",
       "    .dataframe tbody tr th {\n",
       "        vertical-align: top;\n",
       "    }\n",
       "\n",
       "    .dataframe thead th {\n",
       "        text-align: right;\n",
       "    }\n",
       "</style>\n",
       "<table border=\"1\" class=\"dataframe\">\n",
       "  <thead>\n",
       "    <tr style=\"text-align: right;\">\n",
       "      <th></th>\n",
       "      <th>val_auprc</th>\n",
       "      <th>val_auroc</th>\n",
       "      <th>val_loss</th>\n",
       "      <th>epoch</th>\n",
       "      <th>step</th>\n",
       "      <th>train_loss</th>\n",
       "      <th>train_auroc</th>\n",
       "      <th>train_auprc</th>\n",
       "      <th>test_loss</th>\n",
       "      <th>test_auroc</th>\n",
       "      <th>test_auprc</th>\n",
       "    </tr>\n",
       "  </thead>\n",
       "  <tbody>\n",
       "    <tr>\n",
       "      <th>0</th>\n",
       "      <td>0.2319</td>\n",
       "      <td>0.6564</td>\n",
       "      <td>0.336326</td>\n",
       "      <td>0</td>\n",
       "      <td>5080</td>\n",
       "      <td>NaN</td>\n",
       "      <td>NaN</td>\n",
       "      <td>NaN</td>\n",
       "      <td>NaN</td>\n",
       "      <td>NaN</td>\n",
       "      <td>NaN</td>\n",
       "    </tr>\n",
       "    <tr>\n",
       "      <th>1</th>\n",
       "      <td>NaN</td>\n",
       "      <td>NaN</td>\n",
       "      <td>NaN</td>\n",
       "      <td>0</td>\n",
       "      <td>5080</td>\n",
       "      <td>0.284748</td>\n",
       "      <td>0.6498</td>\n",
       "      <td>0.1959</td>\n",
       "      <td>NaN</td>\n",
       "      <td>NaN</td>\n",
       "      <td>NaN</td>\n",
       "    </tr>\n",
       "    <tr>\n",
       "      <th>2</th>\n",
       "      <td>0.2458</td>\n",
       "      <td>0.6749</td>\n",
       "      <td>0.334919</td>\n",
       "      <td>1</td>\n",
       "      <td>10161</td>\n",
       "      <td>NaN</td>\n",
       "      <td>NaN</td>\n",
       "      <td>NaN</td>\n",
       "      <td>NaN</td>\n",
       "      <td>NaN</td>\n",
       "      <td>NaN</td>\n",
       "    </tr>\n",
       "    <tr>\n",
       "      <th>3</th>\n",
       "      <td>NaN</td>\n",
       "      <td>NaN</td>\n",
       "      <td>NaN</td>\n",
       "      <td>1</td>\n",
       "      <td>10161</td>\n",
       "      <td>0.272652</td>\n",
       "      <td>0.6936</td>\n",
       "      <td>0.2226</td>\n",
       "      <td>NaN</td>\n",
       "      <td>NaN</td>\n",
       "      <td>NaN</td>\n",
       "    </tr>\n",
       "    <tr>\n",
       "      <th>4</th>\n",
       "      <td>0.2533</td>\n",
       "      <td>0.6859</td>\n",
       "      <td>0.325479</td>\n",
       "      <td>2</td>\n",
       "      <td>15242</td>\n",
       "      <td>NaN</td>\n",
       "      <td>NaN</td>\n",
       "      <td>NaN</td>\n",
       "      <td>NaN</td>\n",
       "      <td>NaN</td>\n",
       "      <td>NaN</td>\n",
       "    </tr>\n",
       "    <tr>\n",
       "      <th>...</th>\n",
       "      <td>...</td>\n",
       "      <td>...</td>\n",
       "      <td>...</td>\n",
       "      <td>...</td>\n",
       "      <td>...</td>\n",
       "      <td>...</td>\n",
       "      <td>...</td>\n",
       "      <td>...</td>\n",
       "      <td>...</td>\n",
       "      <td>...</td>\n",
       "      <td>...</td>\n",
       "    </tr>\n",
       "    <tr>\n",
       "      <th>70</th>\n",
       "      <td>0.3343</td>\n",
       "      <td>0.7665</td>\n",
       "      <td>0.290904</td>\n",
       "      <td>35</td>\n",
       "      <td>182915</td>\n",
       "      <td>NaN</td>\n",
       "      <td>NaN</td>\n",
       "      <td>NaN</td>\n",
       "      <td>NaN</td>\n",
       "      <td>NaN</td>\n",
       "      <td>NaN</td>\n",
       "    </tr>\n",
       "    <tr>\n",
       "      <th>71</th>\n",
       "      <td>NaN</td>\n",
       "      <td>NaN</td>\n",
       "      <td>NaN</td>\n",
       "      <td>35</td>\n",
       "      <td>182915</td>\n",
       "      <td>0.226207</td>\n",
       "      <td>0.8215</td>\n",
       "      <td>0.3610</td>\n",
       "      <td>NaN</td>\n",
       "      <td>NaN</td>\n",
       "      <td>NaN</td>\n",
       "    </tr>\n",
       "    <tr>\n",
       "      <th>72</th>\n",
       "      <td>0.3344</td>\n",
       "      <td>0.7662</td>\n",
       "      <td>0.291067</td>\n",
       "      <td>36</td>\n",
       "      <td>187996</td>\n",
       "      <td>NaN</td>\n",
       "      <td>NaN</td>\n",
       "      <td>NaN</td>\n",
       "      <td>NaN</td>\n",
       "      <td>NaN</td>\n",
       "      <td>NaN</td>\n",
       "    </tr>\n",
       "    <tr>\n",
       "      <th>73</th>\n",
       "      <td>NaN</td>\n",
       "      <td>NaN</td>\n",
       "      <td>NaN</td>\n",
       "      <td>36</td>\n",
       "      <td>187996</td>\n",
       "      <td>0.225612</td>\n",
       "      <td>0.8232</td>\n",
       "      <td>0.3635</td>\n",
       "      <td>NaN</td>\n",
       "      <td>NaN</td>\n",
       "      <td>NaN</td>\n",
       "    </tr>\n",
       "    <tr>\n",
       "      <th>74</th>\n",
       "      <td>NaN</td>\n",
       "      <td>NaN</td>\n",
       "      <td>NaN</td>\n",
       "      <td>37</td>\n",
       "      <td>187997</td>\n",
       "      <td>NaN</td>\n",
       "      <td>NaN</td>\n",
       "      <td>NaN</td>\n",
       "      <td>0.286719</td>\n",
       "      <td>0.7625</td>\n",
       "      <td>0.3303</td>\n",
       "    </tr>\n",
       "  </tbody>\n",
       "</table>\n",
       "<p>75 rows × 11 columns</p>\n",
       "</div>"
      ],
      "text/plain": [
       "    val_auprc  val_auroc  val_loss  epoch    step  train_loss  train_auroc  \\\n",
       "0      0.2319     0.6564  0.336326      0    5080         NaN          NaN   \n",
       "1         NaN        NaN       NaN      0    5080    0.284748       0.6498   \n",
       "2      0.2458     0.6749  0.334919      1   10161         NaN          NaN   \n",
       "3         NaN        NaN       NaN      1   10161    0.272652       0.6936   \n",
       "4      0.2533     0.6859  0.325479      2   15242         NaN          NaN   \n",
       "..        ...        ...       ...    ...     ...         ...          ...   \n",
       "70     0.3343     0.7665  0.290904     35  182915         NaN          NaN   \n",
       "71        NaN        NaN       NaN     35  182915    0.226207       0.8215   \n",
       "72     0.3344     0.7662  0.291067     36  187996         NaN          NaN   \n",
       "73        NaN        NaN       NaN     36  187996    0.225612       0.8232   \n",
       "74        NaN        NaN       NaN     37  187997         NaN          NaN   \n",
       "\n",
       "    train_auprc  test_loss  test_auroc  test_auprc  \n",
       "0           NaN        NaN         NaN         NaN  \n",
       "1        0.1959        NaN         NaN         NaN  \n",
       "2           NaN        NaN         NaN         NaN  \n",
       "3        0.2226        NaN         NaN         NaN  \n",
       "4           NaN        NaN         NaN         NaN  \n",
       "..          ...        ...         ...         ...  \n",
       "70          NaN        NaN         NaN         NaN  \n",
       "71       0.3610        NaN         NaN         NaN  \n",
       "72          NaN        NaN         NaN         NaN  \n",
       "73       0.3635        NaN         NaN         NaN  \n",
       "74          NaN   0.286719      0.7625      0.3303  \n",
       "\n",
       "[75 rows x 11 columns]"
      ]
     },
     "execution_count": 259,
     "metadata": {},
     "output_type": "execute_result"
    }
   ],
   "source": [
    "ev"
   ]
  },
  {
   "cell_type": "code",
   "execution_count": 256,
   "id": "85d24b51",
   "metadata": {},
   "outputs": [
    {
     "data": {
      "text/plain": [
       "<Axes: >"
      ]
     },
     "execution_count": 256,
     "metadata": {},
     "output_type": "execute_result"
    },
    {
     "data": {
      "image/png": "[encoded data removed]",
      "text/plain": [
       "<Figure size 640x480 with 1 Axes>"
      ]
     },
     "metadata": {},
     "output_type": "display_data"
    }
   ],
   "source": [
    "ev[ev.val_auroc.notna()].val_auroc.plot()\n",
    "ev[ev.train_auroc.notna()].train_auroc.plot()"
   ]
  },
  {
   "cell_type": "code",
   "execution_count": 252,
   "id": "60a2f7bf",
   "metadata": {},
   "outputs": [
    {
     "data": {
      "text/plain": [
       "<Axes: >"
      ]
     },
     "execution_count": 252,
     "metadata": {},
     "output_type": "execute_result"
    },
    {
     "data": {
      "image/png": "[encoded data removed]",
      "text/plain": [
       "<Figure size 640x480 with 1 Axes>"
      ]
     },
     "metadata": {},
     "output_type": "display_data"
    }
   ],
   "source": [
    "ev[ev.val_auroc.notna()].val_loss.plot()\n",
    "ev[ev.train_auroc.notna()].train_loss.plot()"
   ]
  },
  {
   "cell_type": "code",
   "execution_count": null,
   "id": "c5d96a80",
   "metadata": {},
   "outputs": [],
   "source": []
  },
  {
   "cell_type": "code",
   "execution_count": null,
   "id": "d4879cf9",
   "metadata": {},
   "outputs": [],
   "source": []
  },
  {
   "cell_type": "code",
   "execution_count": null,
   "id": "f3590a7d",
   "metadata": {},
   "outputs": [],
   "source": []
  },
  {
   "cell_type": "code",
   "execution_count": null,
   "id": "bdba2afa",
   "metadata": {},
   "outputs": [],
   "source": []
  }
 ],
 "metadata": {
  "kernelspec": {
   "display_name": "chexmsn-env\n",
   "language": "python",
   "name": "chexmsn-env"
  },
  "language_info": {
   "codemirror_mode": {
    "name": "ipython",
    "version": 3
   },
   "file_extension": ".py",
   "mimetype": "text/x-python",
   "name": "python",
   "nbconvert_exporter": "python",
   "pygments_lexer": "ipython3",
   "version": "3.9.12"
  }
 },
 "nbformat": 4,
 "nbformat_minor": 5
}
