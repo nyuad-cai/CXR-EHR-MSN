{
 "cells": [
  {
   "cell_type": "code",
   "execution_count": 1,
   "metadata": {},
   "outputs": [],
   "source": [
    "import numpy as np\n",
    "from sklearn import metrics\n",
    "from sklearn.metrics import roc_auc_score, average_precision_score\n",
    "import pandas as pd\n",
    "import scipy\n",
    "from scipy.stats import permutation_test # requires python 3.8 and updated scipy version\n",
    "import matplotlib.pyplot as plt\n",
    "from numpy.random import permutation\n"
   ]
  },
  {
   "cell_type": "markdown",
   "metadata": {},
   "source": [
    "Sources: \n",
    "\n",
    "https://docs.scipy.org/doc/scipy/reference/generated/scipy.stats.permutation_test.html\n",
    "\n",
    "https://en.wikipedia.org/wiki/Permutation_test\n",
    "\n",
    "https://nblok306.ftn.uns.ac.rs/~zoran/A/knjige/Chihara2011.pdf\n",
    "\n",
    "https://matthew-brett.github.io/cfd2020/permutation/permutation_and_t_test.html\n",
    "\n",
    "https://www.amazon.com/exec/obidos/ASIN/0943126444/jmir-20?dev-t=mason-wrapper%26camp=2025%26link_code=xm2\n",
    "\n",
    "https://support.jmir.org/hc/en-us/articles/360000002012\n",
    "\n",
    "https://github.com/qbarthelemy/PyPermut\n",
    "\n",
    "\n",
    "- Null hypothesis: Two samples belong to the same distribution\n",
    "\n",
    "- Alternative hypothesis: Model B (ML model) performs better than Model A (NEWS)\n",
    "\n",
    "We will compute the p-value based on the differences between the samples. The p-value indicates the probability that pure chance would lead to the same observed difference between the two samples. If the p-value is below a certain threshold assumed to be statistically significant, then we reject the null hypothesis and accept the alternative hypothesis. If the p-value is above the threshold, then we cannot reject the null hypothesis. \n"
   ]
  },
  {
   "cell_type": "markdown",
   "metadata": {},
   "source": [
    "## [1] Simulate dataset"
   ]
  },
  {
   "cell_type": "code",
   "execution_count": 2,
   "metadata": {},
   "outputs": [
    {
     "name": "stdout",
     "output_type": "stream",
     "text": [
      "0.71875\n",
      "0.75\n"
     ]
    }
   ],
   "source": [
    "# Create a sample of groundtruth labels\n",
    "y = [1, 1, 1, 1, 0, 0, 0, 0, 1, 1, 1, 1, 0, 0, 0, 0, 1, 1, 1, 1, 0, 0, 0, 0,]\n",
    "\n",
    "# Simulate predictions of model A (Assume NEWS)\n",
    "y_a = [0.8, 0.7, 0.2, 0.8, 0.15, 0.1, 0.2, 0.9, 0.8, 0.7, 0.2, 0.8, 0.15, 0.1, 0.2, 0.9, 0.8, 0.7, 0.2, 0.8, 0.15, 0.1, 0.2, 0.9]\n",
    "auroc_a = metrics.roc_auc_score(y, y_a)\n",
    "print(auroc_a)\n",
    "\n",
    "# Simulate predictions of model B (Assume XGboost)\n",
    "y_b = [0, 0.5, 0.7, 0.9, 0.4, 0.2, 0.02, 0.01, 0, 0.5, 0.7, 0.9, 0.4, 0.2, 0.02, 0.01, 0, 0.5, 0.7, 0.9, 0.4, 0.2, 0.02, 0.01]\n",
    "auroc_b = metrics.roc_auc_score(y, y_b)\n",
    "print(auroc_b)"
   ]
  },
  {
   "cell_type": "code",
   "execution_count": 4,
   "metadata": {},
   "outputs": [],
   "source": [
    "def seed_everything(seed=42):\n",
    "    \"\"\"\n",
    "    Function to seed all RNGs. \n",
    "    Taken from #https://stackoverflow.com/questions/57416925/best-practices-for-generating-a-random-seeds-to-seed-pytorch\n",
    "\n",
    "    Args:\n",
    "        seed: RNG seed. Defaults to 42.\n",
    "    \"\"\"\n",
    "    random.seed(seed)\n",
    "    os.environ['PYTHONHASHSEED'] = str(seed)\n",
    "    np.random.seed(seed)\n",
    "    torch.manual_seed(seed)\n",
    "    torch.backends.cudnn.deterministic = True\n",
    "    torch.backends.cudnn.benchmark = True\n",
    "    torch.backends.cudnn.enabled = True"
   ]
  },
  {
   "cell_type": "code",
   "execution_count": 5,
   "metadata": {},
   "outputs": [
    {
     "ename": "ModuleNotFoundError",
     "evalue": "No module named 'models'",
     "output_type": "error",
     "traceback": [
      "\u001b[0;31m---------------------------------------------------------------------------\u001b[0m",
      "\u001b[0;31mModuleNotFoundError\u001b[0m                       Traceback (most recent call last)",
      "Cell \u001b[0;32mIn[5], line 2\u001b[0m\n\u001b[1;32m      1\u001b[0m \u001b[38;5;28;01mimport\u001b[39;00m \u001b[38;5;21;01mpickle\u001b[39;00m\n\u001b[0;32m----> 2\u001b[0m \u001b[38;5;28;01mfrom\u001b[39;00m \u001b[38;5;21;01mmodels\u001b[39;00m \u001b[38;5;28;01mimport\u001b[39;00m XGBoost, NEWS, LogisticRegression\n\u001b[1;32m      4\u001b[0m path \u001b[38;5;241m=\u001b[39m \u001b[38;5;124m'\u001b[39m\u001b[38;5;124m./results/\u001b[39m\u001b[38;5;124m'\u001b[39m\n\u001b[1;32m      6\u001b[0m seed_everything(\u001b[38;5;241m32\u001b[39m)\n",
      "\u001b[0;31mModuleNotFoundError\u001b[0m: No module named 'models'"
     ]
    }
   ],
   "source": [
    "import pickle\n",
    "from models import XGBoost, NEWS, LogisticRegression\n",
    "\n",
    "path = './results/'\n",
    "\n",
    "seed_everything(32)\n",
    "\n",
    "# with open(path + '/targets.pkl', 'rb') as f:\n",
    "#     targets = pickle.load(f)\n",
    "labely = ['y_true']\n",
    "\n",
    "# train = pd.read_csv(path + '/train' + '.csv', encoding=\"ISO-8859-1\")\n",
    "# val = pd.read_csv(path + '/val' + '.csv', encoding=\"ISO-8859-1\")\n",
    "test = pd.read_csv('splits/testH24' + '.csv', encoding=\"ISO-8859-1\")\n",
    "\n",
    "# X_train = train[targets]\n",
    "# y_train = train[labely]\n",
    "# X_val = val[targets]\n",
    "# y_val = val[labely]\n",
    "# X_test= test[targets]\n",
    "# y_test= test[labely]\n",
    "\n",
    "# X_train_col_mean = np.nanmean(X_train, axis=0)\n",
    "# X_val_col_mean = np.nanmean(X_val, axis=0)\n",
    "# X_test_col_mean = np.nanmean(X_val, axis=0)\n",
    "\n",
    "# X_train = np.where(np.isnan(X_train), X_train_col_mean, X_train)\n",
    "# X_val = np.where(np.isnan(X_val), X_val_col_mean, X_val)\n",
    "# X_test = np.where(np.isnan(X_test), X_test_col_mean, X_test)\n",
    "\n",
    "\n",
    "# Create a sample of groundtruth labels\n",
    "y = test[labely]\n",
    "y = y.values[:,0]\n",
    "\n",
    "metric = 'auprc'\n",
    "\n",
    "# modelA = LogisticRegression()\n",
    "# modelA.train(X_train, y_train, X_val, y_val, metric='auprc')\n",
    "#Simulate predictions of model A (Assume NEWS)\n",
    "with open(path + \"newsH24.pkl\", \"rb\") as f:\n",
    "    y_a = pickle.load(f)\n",
    "#y_a = modelA.model.predict_proba(X_test)[:,1]\n",
    "auroc_a = metrics.roc_auc_score(y, y_a)\n",
    "print(auroc_a)\n",
    "\n",
    "\n",
    "with open(path + \"fcnnH24.pkl\", \"rb\") as f:\n",
    "    y_b = pickle.load(f)\n",
    "auroc_b = metrics.roc_auc_score(y, y_b)\n",
    "print(auroc_b)"
   ]
  },
  {
   "cell_type": "markdown",
   "metadata": {},
   "source": [
    "## [2] Calculate confidence intervals for metric using the bootstrap method"
   ]
  },
  {
   "cell_type": "code",
   "execution_count": null,
   "metadata": {},
   "outputs": [],
   "source": []
  },
  {
   "cell_type": "code",
   "execution_count": 145,
   "metadata": {},
   "outputs": [],
   "source": [
    "def boostrap(y_true, y_pred, metric='auroc'):\n",
    "    n_iterations = 1000\n",
    "    Test_AUC=[]\n",
    "    Test_AUPRC=[]\n",
    "\n",
    "    if metric == 'auroc':\n",
    "        score = roc_auc_score\n",
    "    else:\n",
    "        score = average_precision_score\n",
    "    auc_true = score(y_true, y_pred)\n",
    "#     AUPRC_true = average_precision_score(test[outcome],predictions_df[\"avg\"])\n",
    "    \n",
    "    test = pd.DataFrame({'y': y_true, 'pred': y_pred})\n",
    "\n",
    "\n",
    "    for i in range(n_iterations):\n",
    "\n",
    "        test_resampled = test.sample(frac=1, replace=True)\n",
    "\n",
    "        auc = score(test_resampled['y'], test_resampled['pred'])\n",
    "        Test_AUC.append(auc)\n",
    "        #avg = average_precision_score(test_resampled[outcome], test_resampled[\"prediction\"])\n",
    "        #Test_AUPRC.append(avg)\n",
    "\n",
    "    return Test_AUC, auc_true\n",
    "\n",
    "\n",
    "def compute_confidence_intervals(list_,true_value):\n",
    "    \"\"\"This function calcualted the 95% Confidence Intervals\"\"\"\n",
    "    delta = (true_value - list_)\n",
    "    list(np.sort(delta))\n",
    "    delta_lower = np.percentile(delta, 97.5)\n",
    "    delta_upper = np.percentile(delta, 2.5)\n",
    "\n",
    "    upper = true_value - delta_upper\n",
    "    lower = true_value - delta_lower\n",
    "    print(f\"CI 95% {round(true_value, 3)} ( {round(lower, 3)} , {round(upper, 3)} )\")\n",
    "\n",
    "    return(upper,lower)"
   ]
  },
  {
   "cell_type": "code",
   "execution_count": 146,
   "metadata": {},
   "outputs": [],
   "source": [
    "# boostrap model A\n",
    "test_auc_A, auc_true_A = boostrap(y, y_a, metric=metric)\n",
    "\n",
    "# bootstrap model B\n",
    "test_auc_B, auc_true_B = boostrap(y, y_b, metric=metric)\n"
   ]
  },
  {
   "cell_type": "code",
   "execution_count": 147,
   "metadata": {},
   "outputs": [
    {
     "name": "stdout",
     "output_type": "stream",
     "text": [
      "CI 95% 0.133 ( 0.117 , 0.152 )\n"
     ]
    }
   ],
   "source": [
    "upp_a, lower_a = compute_confidence_intervals(test_auc_A, auc_true_A)"
   ]
  },
  {
   "cell_type": "code",
   "execution_count": 148,
   "metadata": {},
   "outputs": [
    {
     "name": "stdout",
     "output_type": "stream",
     "text": [
      "CI 95% 0.2 ( 0.178 , 0.225 )\n"
     ]
    }
   ],
   "source": [
    "upp_b, lower_b = compute_confidence_intervals(test_auc_B, auc_true_B)"
   ]
  },
  {
   "cell_type": "markdown",
   "metadata": {},
   "source": [
    "## [3] Compute the difference between the two samples using boostrapping + CI"
   ]
  },
  {
   "cell_type": "code",
   "execution_count": 149,
   "metadata": {},
   "outputs": [],
   "source": [
    "def boostrap_diff(y_true, y_pred_A, y_pred_B, metric = 'auroc'):\n",
    "    n_iterations = 1000\n",
    "    \n",
    "    Test_AUC_diff=[]\n",
    "    \n",
    "    test = pd.DataFrame({'y': y_true, 'pred_A': y_pred_A, 'pred_B': y_pred_B})\n",
    "\n",
    "    if metric == 'auroc':\n",
    "        score = roc_auc_score\n",
    "    else:\n",
    "        score = average_precision_score\n",
    "    \n",
    "    auc_true_A = score(y_true, y_pred_A)\n",
    "    auc_true_B = score(y_true, y_pred_B)\n",
    "\n",
    "    auroc_diff = auc_true_B - auc_true_A \n",
    "\n",
    "    for i in range(n_iterations):\n",
    "\n",
    "        test_resampled = test.sample(frac=1, replace=True)\n",
    "\n",
    "        auc_A = score(test_resampled['y'], test_resampled['pred_A'])\n",
    "        auc_B = score(test_resampled['y'], test_resampled['pred_B'])\n",
    "        \n",
    "        diff = auc_B - auc_A\n",
    "        \n",
    "        Test_AUC_diff.append(diff)\n",
    "\n",
    "    return Test_AUC_diff, auroc_diff"
   ]
  },
  {
   "cell_type": "code",
   "execution_count": 150,
   "metadata": {},
   "outputs": [
    {
     "name": "stdout",
     "output_type": "stream",
     "text": [
      "CI 95% 0.067 ( 0.052 , 0.085 )\n"
     ]
    }
   ],
   "source": [
    "# Compute the difference in AUROC and CI for the two samples using the boostrap method\n",
    "test_diff, true_diff =  boostrap_diff(y, y_a, y_b, metric=metric)\n",
    "upp_diff, lower_diff = compute_confidence_intervals(test_diff, true_diff)"
   ]
  },
  {
   "cell_type": "markdown",
   "metadata": {},
   "source": [
    "## [4] P-value using one-sided permutation test"
   ]
  },
  {
   "cell_type": "code",
   "execution_count": 151,
   "metadata": {},
   "outputs": [],
   "source": [
    "# Concatenate the two samples\n",
    "pooled_pred = np.append(y_a, y_b)\n",
    "pooled_true = np.append(y, y)\n",
    "\n",
    "n_iters = 10000\n",
    "fake_differences = np.zeros(n_iters)\n",
    "\n",
    "if metric == 'auroc':\n",
    "    score = roc_auc_score\n",
    "else:\n",
    "    score = average_precision_score\n",
    "\n",
    "for i in np.arange(n_iters):\n",
    "    #print(i)\n",
    "    # Obtain permutation for both predictions and groundtruth labels\n",
    "    perm = permutation(len(pooled_pred))\n",
    "    y_true = pooled_true[perm]\n",
    "    y_pred = pooled_pred[perm]\n",
    "    \n",
    "    # Compute the difference and add it to the array of differences\n",
    "    fake_differences[i] = score(y_true[:len(y_a)], y_pred[:len(y_a)]) - score(y_true[len(y_a):], y_pred[len(y_a):])\n",
    "    \n",
    "    "
   ]
  },
  {
   "cell_type": "code",
   "execution_count": 152,
   "metadata": {},
   "outputs": [
    {
     "data": {
      "text/plain": [
       "Text(0.5, 1.0, 'Sampling distribution of difference of metric')"
      ]
     },
     "execution_count": 152,
     "metadata": {},
     "output_type": "execute_result"
    },
    {
     "data": {
      "image/png": "[encoded data removed]",
      "text/plain": [
       "<Figure size 432x288 with 1 Axes>"
      ]
     },
     "metadata": {
      "needs_background": "light"
     },
     "output_type": "display_data"
    }
   ],
   "source": [
    "plt.hist(fake_differences)\n",
    "plt.title('Sampling distribution of difference of metric')\n"
   ]
  },
  {
   "cell_type": "code",
   "execution_count": 153,
   "metadata": {},
   "outputs": [
    {
     "data": {
      "text/plain": [
       "0.0"
      ]
     },
     "execution_count": 153,
     "metadata": {},
     "output_type": "execute_result"
    }
   ],
   "source": [
    "permutation_p = np.count_nonzero(\n",
    "    fake_differences >= true_diff)/ n_iters\n",
    "permutation_p"
   ]
  },
  {
   "cell_type": "code",
   "execution_count": 154,
   "metadata": {},
   "outputs": [
    {
     "data": {
      "text/plain": [
       "0.0673334121613623"
      ]
     },
     "execution_count": 154,
     "metadata": {},
     "output_type": "execute_result"
    }
   ],
   "source": [
    "true_diff"
   ]
  }
 ],
 "metadata": {
  "kernelspec": {
   "display_name": "chexmsn-env\n",
   "language": "python",
   "name": "chexmsn-env"
  },
  "language_info": {
   "codemirror_mode": {
    "name": "ipython",
    "version": 3
   },
   "file_extension": ".py",
   "mimetype": "text/x-python",
   "name": "python",
   "nbconvert_exporter": "python",
   "pygments_lexer": "ipython3",
   "version": "3.9.12"
  },
  "vscode": {
   "interpreter": {
    "hash": "7f7be9d51035affafb29dceabe234970f757e220d15705efccd7c466e6060a35"
   }
  }
 },
 "nbformat": 4,
 "nbformat_minor": 2
}
